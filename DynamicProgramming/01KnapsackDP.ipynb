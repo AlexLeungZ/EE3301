{
 "cells": [
  {
   "cell_type": "markdown",
   "metadata": {},
   "source": [
    "### Library\n"
   ]
  },
  {
   "cell_type": "code",
   "execution_count": 1,
   "metadata": {},
   "outputs": [],
   "source": [
    "import pandas as pd\n",
    "import sys\n"
   ]
  },
  {
   "cell_type": "markdown",
   "metadata": {},
   "source": [
    "### Data input\n"
   ]
  },
  {
   "cell_type": "code",
   "execution_count": 2,
   "metadata": {},
   "outputs": [],
   "source": [
    "values = [4, 2, 3, 5, 1]\n",
    "weight = [3, 1, 2, 3, 1]\n",
    "W = 6\n",
    "# values = [4, 3, 6]\n",
    "# weight = [2, 1, 4]\n",
    "# W = 5\n"
   ]
  },
  {
   "cell_type": "markdown",
   "metadata": {},
   "source": [
    "### Data convertion\n"
   ]
  },
  {
   "cell_type": "code",
   "execution_count": 3,
   "metadata": {},
   "outputs": [],
   "source": [
    "n = len(values)\n",
    "values = [0] + values\n",
    "weight = [0] + weight\n"
   ]
  },
  {
   "cell_type": "code",
   "execution_count": 4,
   "metadata": {},
   "outputs": [],
   "source": [
    "sMat = pd.DataFrame(0, index=range(n + 1, 0, -1), columns=range(W + 1))\n",
    "mMat = pd.DataFrame(index=range(n, 0, -1), columns=range(W + 1))\n",
    "pMat = pd.DataFrame(index=range(n, 0, -1), columns=range(W + 1))\n",
    "sMat.iloc[1:, 1:] = ~sys.maxsize\n"
   ]
  },
  {
   "cell_type": "code",
   "execution_count": 5,
   "metadata": {},
   "outputs": [],
   "source": [
    "for k in range(n, 0, -1):\n",
    "    for w in range(W + 1):\n",
    "        mMat.loc[k][w] = [sMat.loc[k + 1][w]]\n",
    "        if w - weight[k] >= 0:\n",
    "            mMat.loc[k][w].append(values[k] + sMat.loc[k + 1][w - weight[k]])\n",
    "        sMat.loc[k][w] = max(mMat.loc[k][w])\n",
    "        pMat.loc[k][w] = mMat.loc[k][w].index(sMat.loc[k][w])\n"
   ]
  },
  {
   "cell_type": "markdown",
   "metadata": {},
   "source": [
    "### Steps\n"
   ]
  },
  {
   "cell_type": "code",
   "execution_count": 6,
   "metadata": {},
   "outputs": [
    {
     "name": "stdout",
     "output_type": "stream",
     "text": [
      "Stage 5 (k = 5)\n",
      "S(5,0) = max[0] = 0, P(5,0) = 0\n",
      "S(5,1) = max[0, 1] = 1, P(5,1) = 1\n",
      "S(5,2) = max[0, 1] = 1, P(5,2) = 1\n",
      "S(5,3) = max[0, 1] = 1, P(5,3) = 1\n",
      "S(5,4) = max[0, 1] = 1, P(5,4) = 1\n",
      "S(5,5) = max[0, 1] = 1, P(5,5) = 1\n",
      "S(5,6) = max[0, 1] = 1, P(5,6) = 1\n",
      "Stage 4 (k = 4)\n",
      "S(4,0) = max[0] = 0, P(4,0) = 0\n",
      "S(4,1) = max[1] = 1, P(4,1) = 0\n",
      "S(4,2) = max[1] = 1, P(4,2) = 0\n",
      "S(4,3) = max[1, 5] = 5, P(4,3) = 1\n",
      "S(4,4) = max[1, 6] = 6, P(4,4) = 1\n",
      "S(4,5) = max[1, 6] = 6, P(4,5) = 1\n",
      "S(4,6) = max[1, 6] = 6, P(4,6) = 1\n",
      "Stage 3 (k = 3)\n",
      "S(3,0) = max[0] = 0, P(3,0) = 0\n",
      "S(3,1) = max[1] = 1, P(3,1) = 0\n",
      "S(3,2) = max[1, 3] = 3, P(3,2) = 1\n",
      "S(3,3) = max[5, 4] = 5, P(3,3) = 0\n",
      "S(3,4) = max[6, 4] = 6, P(3,4) = 0\n",
      "S(3,5) = max[6, 8] = 8, P(3,5) = 1\n",
      "S(3,6) = max[6, 9] = 9, P(3,6) = 1\n",
      "Stage 2 (k = 2)\n",
      "S(2,0) = max[0] = 0, P(2,0) = 0\n",
      "S(2,1) = max[1, 2] = 2, P(2,1) = 1\n",
      "S(2,2) = max[3, 3] = 3, P(2,2) = 0\n",
      "S(2,3) = max[5, 5] = 5, P(2,3) = 0\n",
      "S(2,4) = max[6, 7] = 7, P(2,4) = 1\n",
      "S(2,5) = max[8, 8] = 8, P(2,5) = 0\n",
      "S(2,6) = max[9, 10] = 10, P(2,6) = 1\n",
      "Stage 1 (k = 1)\n",
      "S(1,0) = max[0] = 0, P(1,0) = 0\n",
      "S(1,1) = max[2] = 2, P(1,1) = 0\n",
      "S(1,2) = max[3] = 3, P(1,2) = 0\n",
      "S(1,3) = max[5, 4] = 5, P(1,3) = 0\n",
      "S(1,4) = max[7, 6] = 7, P(1,4) = 0\n",
      "S(1,5) = max[8, 7] = 8, P(1,5) = 0\n",
      "S(1,6) = max[10, 9] = 10, P(1,6) = 0\n"
     ]
    }
   ],
   "source": [
    "for k in range(n, 0, -1):\n",
    "    print(f\"Stage {k} (k = {k})\")\n",
    "    for w in range(W + 1):\n",
    "        print(f\"S({k},{w}) = max{mMat.loc[k][w]} = {sMat.loc[k][w]}, P({k},{w}) = {pMat.loc[k][w]}\")\n"
   ]
  },
  {
   "cell_type": "markdown",
   "metadata": {},
   "source": [
    "### Optimal Solution\n"
   ]
  },
  {
   "cell_type": "code",
   "execution_count": 7,
   "metadata": {},
   "outputs": [
    {
     "name": "stdout",
     "output_type": "stream",
     "text": [
      "P(1,6) = 0 → x1 = 0\n",
      "P(2,6) = 1 → x2 = 1\n",
      "P(3,5) = 1 → x3 = 1\n",
      "P(4,3) = 1 → x4 = 1\n",
      "P(5,0) = 0 → x5 = 0\n"
     ]
    }
   ],
   "source": [
    "optW = W\n",
    "for k in range(1, n + 1):\n",
    "    print(f\"P({k},{optW}) = {pMat.loc[k][optW]} → x{k} = {pMat.loc[k][optW]}\")\n",
    "    if pMat.loc[k][optW] and not optW - weight[k] < 0:\n",
    "        optW -= weight[k]\n"
   ]
  },
  {
   "cell_type": "markdown",
   "metadata": {},
   "source": [
    "### Max value\n"
   ]
  },
  {
   "cell_type": "code",
   "execution_count": 8,
   "metadata": {},
   "outputs": [
    {
     "data": {
      "text/plain": [
       "10"
      ]
     },
     "execution_count": 8,
     "metadata": {},
     "output_type": "execute_result"
    }
   ],
   "source": [
    "sMat.loc[1][W]\n"
   ]
  }
 ],
 "metadata": {
  "kernelspec": {
   "display_name": "Python 3.10.6 ('2001')",
   "language": "python",
   "name": "python3"
  },
  "language_info": {
   "codemirror_mode": {
    "name": "ipython",
    "version": 3
   },
   "file_extension": ".py",
   "mimetype": "text/x-python",
   "name": "python",
   "nbconvert_exporter": "python",
   "pygments_lexer": "ipython3",
   "version": "3.10.6"
  },
  "orig_nbformat": 4,
  "vscode": {
   "interpreter": {
    "hash": "98ca2e07560d35728ccdebd1543520761a78888f7ef0f79ced70cde6f7b9b0d4"
   }
  }
 },
 "nbformat": 4,
 "nbformat_minor": 2
}
