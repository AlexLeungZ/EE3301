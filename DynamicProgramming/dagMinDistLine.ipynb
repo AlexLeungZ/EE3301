{
 "cells": [
  {
   "cell_type": "markdown",
   "metadata": {},
   "source": [
    "### Library\n"
   ]
  },
  {
   "cell_type": "code",
   "execution_count": 10,
   "metadata": {},
   "outputs": [],
   "source": [
    "import networkx as nx\n"
   ]
  },
  {
   "cell_type": "markdown",
   "metadata": {},
   "source": [
    "### Input the nodes and edges in the following order:\n",
    "\n",
    "1. Follow this order for both nodes and edges:\n",
    "    - all of ⬈, from west to north, then from west to south\n",
    "    - all of ⬊, from west to south, then from west to north\n",
    "\n",
    "---\n",
    "\n",
    "2.  Set the following variables:\n",
    "    -   depth: depth of the graph (exclude the target)\n",
    "    -   nodeName: name of nodes\n",
    "    -   user16num: given number from the question\n",
    "    -   givenVal: the edge weight of the origional graph\n",
    "    -   destination: name of the target line\n",
    "    -   offset: given by question like replacing the number by *i*th + j\n",
    "\n",
    "---\n",
    "\n",
    "3.  2020-2021 Test 1 Question 4:\n",
    "    -   depth = 4\n",
    "    -   nodeName = \"ACEHDFIGJK\"\n",
    "    -   user16num = \"7298261503910431\"\n",
    "    -   givenVal = \"1,2,3,4,10,12,13,12,15,4,5,11,10,9,6,14,16,7,3,8\"\n",
    "    -   destination = \"B\"\n",
    "    -   offset = 1\n"
   ]
  },
  {
   "cell_type": "markdown",
   "metadata": {},
   "source": [
    "### Read Data and create graph\n"
   ]
  },
  {
   "cell_type": "code",
   "execution_count": 11,
   "metadata": {},
   "outputs": [],
   "source": [
    "depth = 4\n",
    "nodeName = \"ACEHDFIGJK\"\n",
    "user16num = \"2694876301375324\"\n",
    "givenVal = [1, 2, 3, 4, 10, 12, 13, 12, 15, 4, 5, 11, 10, 9, 6, 14, 16, 7, 3, 8]\n",
    "destination = \"B\"\n",
    "offset = 1\n"
   ]
  },
  {
   "cell_type": "code",
   "execution_count": 12,
   "metadata": {},
   "outputs": [
    {
     "name": "stdout",
     "output_type": "stream",
     "text": [
      "Num of nodes: 10\n",
      "Num of edges: 20\n"
     ]
    }
   ],
   "source": [
    "listUser = list(map(int, user16num))\n",
    "edgeVal = [listUser[i - 1] + offset for i in givenVal]\n",
    "nodeSli = [x for x in range(depth, 0, -1)]\n",
    "\n",
    "print(f'Num of nodes: {len(nodeName)}')\n",
    "print(f'Num of edges: {len(edgeVal)}')\n"
   ]
  },
  {
   "cell_type": "markdown",
   "metadata": {},
   "source": [
    "### Overwrite Edge Value directly for new question type\n"
   ]
  },
  {
   "cell_type": "code",
   "execution_count": 13,
   "metadata": {},
   "outputs": [],
   "source": [
    "# edgeVal = []\n"
   ]
  },
  {
   "cell_type": "markdown",
   "metadata": {},
   "source": [
    "### Edge list covertion\n"
   ]
  },
  {
   "cell_type": "code",
   "execution_count": 14,
   "metadata": {},
   "outputs": [],
   "source": [
    "edgeList = []\n",
    "nodeVer = [list(nodeName[sum(nodeSli[:x]):sum(nodeSli[:x + 1])] + destination) for x in range(depth)] + [[destination]]\n",
    "nodeHor = [[i[x] for i in nodeVer if x < len(i)] for x in range(len(nodeVer))]\n",
    "graph = nx.MultiDiGraph()\n",
    "\n",
    "for i in nodeVer:\n",
    "    edgeList.extend(zip(i, i[1:]))\n",
    "\n",
    "for i in nodeHor:\n",
    "    edgeList.extend(zip(i, i[1:]))\n",
    "\n",
    "for i in [(*i, int(j)) for i, j in zip(edgeList, edgeVal)]:\n",
    "    graph.add_edge(i[0], i[1], weight=i[2])\n"
   ]
  },
  {
   "cell_type": "markdown",
   "metadata": {},
   "source": [
    "### New edge weight order by input order\n"
   ]
  },
  {
   "cell_type": "code",
   "execution_count": 15,
   "metadata": {},
   "outputs": [
    {
     "name": "stdout",
     "output_type": "stream",
     "text": [
      "[3, 7, 10, 5, 2, 8, 6, 8, 3, 5, 9, 4, 2, 1, 8, 4, 5, 7, 10, 4]\n"
     ]
    }
   ],
   "source": [
    "print(edgeVal)\n"
   ]
  },
  {
   "cell_type": "markdown",
   "metadata": {},
   "source": [
    "### Original edge list\n"
   ]
  },
  {
   "cell_type": "code",
   "execution_count": 16,
   "metadata": {},
   "outputs": [
    {
     "name": "stdout",
     "output_type": "stream",
     "text": [
      "A C 3\n",
      "A D 9\n",
      "C E 7\n",
      "C F 8\n",
      "E H 10\n",
      "E I 7\n",
      "H B 5\n",
      "H B 4\n",
      "D F 2\n",
      "D G 4\n",
      "F I 8\n",
      "F J 4\n",
      "I B 6\n",
      "I B 10\n",
      "G J 8\n",
      "G K 2\n",
      "J B 3\n",
      "J B 5\n",
      "K B 5\n",
      "K B 1\n"
     ]
    }
   ],
   "source": [
    "for edge in graph.edges(data=True):\n",
    "    print(f\"{edge[0]} {edge[1]} {edge[2]['weight']}\")\n"
   ]
  },
  {
   "cell_type": "markdown",
   "metadata": {},
   "source": [
    "### Recurrence Relations\n"
   ]
  },
  {
   "cell_type": "code",
   "execution_count": 17,
   "metadata": {},
   "outputs": [
    {
     "name": "stdout",
     "output_type": "stream",
     "text": [
      "Node: A min: {'C': {0: {'weight': 3}}, 'D': {0: {'weight': 9}}}\n",
      "Node: C min: {'E': {0: {'weight': 7}}, 'F': {0: {'weight': 8}}}\n",
      "Node: D min: {'F': {0: {'weight': 2}}, 'G': {0: {'weight': 4}}}\n",
      "Node: E min: {'H': {0: {'weight': 10}}, 'I': {0: {'weight': 7}}}\n",
      "Node: F min: {'I': {0: {'weight': 8}}, 'J': {0: {'weight': 4}}}\n",
      "Node: G min: {'J': {0: {'weight': 8}}, 'K': {0: {'weight': 2}}}\n",
      "Node: H min: {'B': {0: {'weight': 5}, 1: {'weight': 4}}}\n",
      "Node: I min: {'B': {0: {'weight': 6}, 1: {'weight': 10}}}\n",
      "Node: J min: {'B': {0: {'weight': 3}, 1: {'weight': 5}}}\n",
      "Node: K min: {'B': {0: {'weight': 5}, 1: {'weight': 1}}}\n"
     ]
    }
   ],
   "source": [
    "for source in sorted(list(graph.nodes)):\n",
    "    if source is destination:\n",
    "        continue\n",
    "    print(f'Node: {source} min: {graph.succ[source]}')\n"
   ]
  },
  {
   "cell_type": "markdown",
   "metadata": {},
   "source": [
    "### Optimal Value Function and Optimal Policy Function\n"
   ]
  },
  {
   "cell_type": "code",
   "execution_count": 18,
   "metadata": {},
   "outputs": [
    {
     "name": "stdout",
     "output_type": "stream",
     "text": [
      "SA = 16, PA = D\n",
      "Node: A Dist: 16\n",
      "Path: A 🡢 D 🡢 G 🡢 K 🡢 B\n",
      "SC = 15, PC = F\n",
      "Node: C Dist: 15\n",
      "Path: C 🡢 F 🡢 J 🡢 B\n",
      "SD = 7, PD = G\n",
      "Node: D Dist: 7\n",
      "Path: D 🡢 G 🡢 K 🡢 B\n",
      "SE = 13, PE = I\n",
      "Node: E Dist: 13\n",
      "Path: E 🡢 I 🡢 B\n",
      "SF = 7, PF = J\n",
      "Node: F Dist: 7\n",
      "Path: F 🡢 J 🡢 B\n",
      "SG = 3, PG = K\n",
      "Node: G Dist: 3\n",
      "Path: G 🡢 K 🡢 B\n",
      "SH = 4, PH = B\n",
      "Node: H Dist: 4\n",
      "Path: H 🡢 B\n",
      "SI = 6, PI = B\n",
      "Node: I Dist: 6\n",
      "Path: I 🡢 B\n",
      "SJ = 3, PJ = B\n",
      "Node: J Dist: 3\n",
      "Path: J 🡢 B\n",
      "SK = 1, PK = B\n",
      "Node: K Dist: 1\n",
      "Path: K 🡢 B\n"
     ]
    }
   ],
   "source": [
    "for source in sorted(list(graph.nodes)):\n",
    "    if source is destination:\n",
    "        continue\n",
    "    dist = nx.bellman_ford_path_length(graph, source, destination)\n",
    "    path = nx.bellman_ford_path(graph, source, destination)\n",
    "    print(f\"S{source} = {dist}, P{source} = {path[1]}\")\n",
    "    print(f'Node: {source} Dist: {dist}')\n",
    "    print(f'Path: {\" 🡢 \".join(path)}')\n"
   ]
  }
 ],
 "metadata": {
  "kernelspec": {
   "display_name": "Python 3.10.4 ('2001')",
   "language": "python",
   "name": "python3"
  },
  "language_info": {
   "codemirror_mode": {
    "name": "ipython",
    "version": 3
   },
   "file_extension": ".py",
   "mimetype": "text/x-python",
   "name": "python",
   "nbconvert_exporter": "python",
   "pygments_lexer": "ipython3",
   "version": "3.10.6"
  },
  "orig_nbformat": 4,
  "vscode": {
   "interpreter": {
    "hash": "98ca2e07560d35728ccdebd1543520761a78888f7ef0f79ced70cde6f7b9b0d4"
   }
  }
 },
 "nbformat": 4,
 "nbformat_minor": 2
}
