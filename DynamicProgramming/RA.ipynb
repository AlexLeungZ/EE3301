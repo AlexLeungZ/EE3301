{
 "cells": [
  {
   "cell_type": "markdown",
   "metadata": {},
   "source": [
    "### Library\n"
   ]
  },
  {
   "cell_type": "code",
   "execution_count": 1,
   "metadata": {},
   "outputs": [],
   "source": [
    "import pandas as pd\n"
   ]
  },
  {
   "cell_type": "markdown",
   "metadata": {},
   "source": [
    "### Data input\n",
    "\n",
    "1. You can type the given table after the modification to the RA.csv\n"
   ]
  },
  {
   "cell_type": "markdown",
   "metadata": {},
   "source": [
    "### Data convertion\n"
   ]
  },
  {
   "cell_type": "code",
   "execution_count": 2,
   "metadata": {},
   "outputs": [
    {
     "data": {
      "text/html": [
       "<div>\n",
       "<style scoped>\n",
       "    .dataframe tbody tr th:only-of-type {\n",
       "        vertical-align: middle;\n",
       "    }\n",
       "\n",
       "    .dataframe tbody tr th {\n",
       "        vertical-align: top;\n",
       "    }\n",
       "\n",
       "    .dataframe thead th {\n",
       "        text-align: right;\n",
       "    }\n",
       "</style>\n",
       "<table border=\"1\" class=\"dataframe\">\n",
       "  <thead>\n",
       "    <tr style=\"text-align: right;\">\n",
       "      <th></th>\n",
       "      <th>1</th>\n",
       "      <th>2</th>\n",
       "      <th>3</th>\n",
       "      <th>4</th>\n",
       "      <th>5</th>\n",
       "      <th>6</th>\n",
       "      <th>7</th>\n",
       "      <th>8</th>\n",
       "    </tr>\n",
       "  </thead>\n",
       "  <tbody>\n",
       "    <tr>\n",
       "      <th>0</th>\n",
       "      <td>0</td>\n",
       "      <td>0</td>\n",
       "      <td>0</td>\n",
       "      <td>0</td>\n",
       "      <td>0</td>\n",
       "      <td>0</td>\n",
       "      <td>0</td>\n",
       "      <td>0</td>\n",
       "    </tr>\n",
       "    <tr>\n",
       "      <th>1</th>\n",
       "      <td>1</td>\n",
       "      <td>3</td>\n",
       "      <td>1</td>\n",
       "      <td>1</td>\n",
       "      <td>1</td>\n",
       "      <td>2</td>\n",
       "      <td>1</td>\n",
       "      <td>1</td>\n",
       "    </tr>\n",
       "    <tr>\n",
       "      <th>2</th>\n",
       "      <td>2</td>\n",
       "      <td>7</td>\n",
       "      <td>2</td>\n",
       "      <td>2</td>\n",
       "      <td>2</td>\n",
       "      <td>4</td>\n",
       "      <td>2</td>\n",
       "      <td>3</td>\n",
       "    </tr>\n",
       "    <tr>\n",
       "      <th>3</th>\n",
       "      <td>3</td>\n",
       "      <td>10</td>\n",
       "      <td>3</td>\n",
       "      <td>4</td>\n",
       "      <td>3</td>\n",
       "      <td>6</td>\n",
       "      <td>3</td>\n",
       "      <td>6</td>\n",
       "    </tr>\n",
       "    <tr>\n",
       "      <th>4</th>\n",
       "      <td>4</td>\n",
       "      <td>12</td>\n",
       "      <td>4</td>\n",
       "      <td>8</td>\n",
       "      <td>4</td>\n",
       "      <td>8</td>\n",
       "      <td>4</td>\n",
       "      <td>9</td>\n",
       "    </tr>\n",
       "    <tr>\n",
       "      <th>5</th>\n",
       "      <td>5</td>\n",
       "      <td>13</td>\n",
       "      <td>5</td>\n",
       "      <td>13</td>\n",
       "      <td>5</td>\n",
       "      <td>10</td>\n",
       "      <td>5</td>\n",
       "      <td>12</td>\n",
       "    </tr>\n",
       "    <tr>\n",
       "      <th>6</th>\n",
       "      <td>6</td>\n",
       "      <td>14</td>\n",
       "      <td>6</td>\n",
       "      <td>17</td>\n",
       "      <td>6</td>\n",
       "      <td>12</td>\n",
       "      <td>6</td>\n",
       "      <td>14</td>\n",
       "    </tr>\n",
       "    <tr>\n",
       "      <th>7</th>\n",
       "      <td>7</td>\n",
       "      <td>14</td>\n",
       "      <td>7</td>\n",
       "      <td>19</td>\n",
       "      <td>7</td>\n",
       "      <td>14</td>\n",
       "      <td>7</td>\n",
       "      <td>16</td>\n",
       "    </tr>\n",
       "    <tr>\n",
       "      <th>8</th>\n",
       "      <td>8</td>\n",
       "      <td>14</td>\n",
       "      <td>8</td>\n",
       "      <td>20</td>\n",
       "      <td>8</td>\n",
       "      <td>16</td>\n",
       "      <td>8</td>\n",
       "      <td>17</td>\n",
       "    </tr>\n",
       "  </tbody>\n",
       "</table>\n",
       "</div>"
      ],
      "text/plain": [
       "   1   2  3   4  5   6  7   8\n",
       "0  0   0  0   0  0   0  0   0\n",
       "1  1   3  1   1  1   2  1   1\n",
       "2  2   7  2   2  2   4  2   3\n",
       "3  3  10  3   4  3   6  3   6\n",
       "4  4  12  4   8  4   8  4   9\n",
       "5  5  13  5  13  5  10  5  12\n",
       "6  6  14  6  17  6  12  6  14\n",
       "7  7  14  7  19  7  14  7  16\n",
       "8  8  14  8  20  8  16  8  17"
      ]
     },
     "execution_count": 2,
     "metadata": {},
     "output_type": "execute_result"
    }
   ],
   "source": [
    "df = pd.read_csv(\"RA.csv\", header=None, dtype=int)\n",
    "df.columns = (df.columns + 1)\n",
    "df\n"
   ]
  },
  {
   "cell_type": "code",
   "execution_count": 3,
   "metadata": {},
   "outputs": [],
   "source": [
    "sizeX = len(df.index) - 1\n",
    "sizeN = int(len(df.columns) / 2)\n",
    "\n",
    "fMat = pd.DataFrame(index=range(sizeX + 1), columns=range(1, sizeN + 1))\n",
    "sMat = pd.DataFrame(index=range(sizeX + 1), columns=range(1, sizeN + 1))\n",
    "pMat = pd.DataFrame(index=range(sizeX + 1), columns=range(1, sizeN + 1))\n"
   ]
  },
  {
   "cell_type": "code",
   "execution_count": 4,
   "metadata": {},
   "outputs": [],
   "source": [
    "for i in range(sizeN, 0, -1):\n",
    "    for j in range(sizeX + 1):\n",
    "        if i == sizeN:\n",
    "            sMat[i][j] = [df[i * 2][j]]\n",
    "            fMat[i][j] = max(sMat[i][j])\n",
    "            pMat[i][j] = j\n",
    "        else:\n",
    "            sMat[i][j] = [[df[i * 2][k], fMat[i + 1][h]] for h, k in zip(range(j, -1, -1), range(j + 1))]\n",
    "            fAllocated = [sum(stp) for stp in sMat[i][j]]\n",
    "            fMat[i][j] = max(fAllocated)\n",
    "            pMat[i][j] = [index for index, x in enumerate(fAllocated) if x == fMat[i][j]]\n"
   ]
  },
  {
   "cell_type": "code",
   "execution_count": 5,
   "metadata": {},
   "outputs": [],
   "source": [
    "k = sizeX\n",
    "xrArr = []\n",
    "\n",
    "for i in range(sizeN):\n",
    "    x = pMat[i+1][k][0] if i+1 != sizeN else pMat[i+1][k]\n",
    "    u = sMat[i+1][k][x][0] if i+1 != sizeN else sMat[i+1][k][0]\n",
    "    k = k - x\n",
    "\n",
    "    xrArr.append([x, u])\n"
   ]
  },
  {
   "cell_type": "code",
   "execution_count": 6,
   "metadata": {},
   "outputs": [],
   "source": [
    "xStr = \"\"\n",
    "rStr = \"\"\n",
    "\n",
    "for i in range(sizeN):\n",
    "    xStr += f'x{i +1} = {xrArr[i][0]}, '\n",
    "    rStr += f'r{i +1}({xrArr[i][0]}) = {xrArr[i][1]}, '\n"
   ]
  },
  {
   "cell_type": "code",
   "execution_count": 7,
   "metadata": {},
   "outputs": [],
   "source": [
    "def sMatFormat(i, j): return [f'{item[0]} + {item[1]}' for item in sMat[i][j]]\n"
   ]
  },
  {
   "cell_type": "markdown",
   "metadata": {},
   "source": [
    "### Boundary Condition\n"
   ]
  },
  {
   "cell_type": "code",
   "execution_count": 8,
   "metadata": {},
   "outputs": [
    {
     "name": "stdout",
     "output_type": "stream",
     "text": [
      "Boundary Condition\n",
      "f4(0) = 0, p4(0) = 0\n",
      "f4(1) = 1, p4(1) = 1\n",
      "f4(2) = 3, p4(2) = 2\n",
      "f4(3) = 6, p4(3) = 3\n",
      "f4(4) = 9, p4(4) = 4\n",
      "f4(5) = 12, p4(5) = 5\n",
      "f4(6) = 14, p4(6) = 6\n",
      "f4(7) = 16, p4(7) = 7\n",
      "f4(8) = 17, p4(8) = 8\n"
     ]
    }
   ],
   "source": [
    "print(f'Boundary Condition')\n",
    "for j in range(sizeX + 1):\n",
    "    print(f'f{sizeN}({j}) = {fMat[sizeN][j]}, p{sizeN}({j}) = {pMat[sizeN][j]}')\n"
   ]
  },
  {
   "cell_type": "markdown",
   "metadata": {},
   "source": [
    "### f_k(x) and p_k(x)\n"
   ]
  },
  {
   "cell_type": "code",
   "execution_count": 9,
   "metadata": {},
   "outputs": [
    {
     "name": "stdout",
     "output_type": "stream",
     "text": [
      "For k = 3\n",
      "f3(0) = max['0 + 0'] = 0, p3(0) = [0]\n",
      "f3(1) = max['0 + 1', '2 + 0'] = 2, p3(1) = [1]\n",
      "f3(2) = max['0 + 3', '2 + 1', '4 + 0'] = 4, p3(2) = [2]\n",
      "f3(3) = max['0 + 6', '2 + 3', '4 + 1', '6 + 0'] = 6, p3(3) = [0, 3]\n",
      "f3(4) = max['0 + 9', '2 + 6', '4 + 3', '6 + 1', '8 + 0'] = 9, p3(4) = [0]\n",
      "f3(5) = max['0 + 12', '2 + 9', '4 + 6', '6 + 3', '8 + 1', '10 + 0'] = 12, p3(5) = [0]\n",
      "f3(6) = max['0 + 14', '2 + 12', '4 + 9', '6 + 6', '8 + 3', '10 + 1', '12 + 0'] = 14, p3(6) = [0, 1]\n",
      "f3(7) = max['0 + 16', '2 + 14', '4 + 12', '6 + 9', '8 + 6', '10 + 3', '12 + 1', '14 + 0'] = 16, p3(7) = [0, 1, 2]\n",
      "f3(8) = max['0 + 17', '2 + 16', '4 + 14', '6 + 12', '8 + 9', '10 + 6', '12 + 3', '14 + 1', '16 + 0'] = 18, p3(8) = [1, 2, 3]\n",
      "For k = 2\n",
      "f2(0) = max['0 + 0'] = 0, p2(0) = [0]\n",
      "f2(1) = max['0 + 2', '1 + 0'] = 2, p2(1) = [0]\n",
      "f2(2) = max['0 + 4', '1 + 2', '2 + 0'] = 4, p2(2) = [0]\n",
      "f2(3) = max['0 + 6', '1 + 4', '2 + 2', '4 + 0'] = 6, p2(3) = [0]\n",
      "f2(4) = max['0 + 9', '1 + 6', '2 + 4', '4 + 2', '8 + 0'] = 9, p2(4) = [0]\n",
      "f2(5) = max['0 + 12', '1 + 9', '2 + 6', '4 + 4', '8 + 2', '13 + 0'] = 13, p2(5) = [5]\n",
      "f2(6) = max['0 + 14', '1 + 12', '2 + 9', '4 + 6', '8 + 4', '13 + 2', '17 + 0'] = 17, p2(6) = [6]\n",
      "f2(7) = max['0 + 16', '1 + 14', '2 + 12', '4 + 9', '8 + 6', '13 + 4', '17 + 2', '19 + 0'] = 19, p2(7) = [6, 7]\n",
      "f2(8) = max['0 + 18', '1 + 16', '2 + 14', '4 + 12', '8 + 9', '13 + 6', '17 + 4', '19 + 2', '20 + 0'] = 21, p2(8) = [6, 7]\n"
     ]
    }
   ],
   "source": [
    "for i in range(sizeN - 1, 1, -1):\n",
    "    print(f'For k = {i}')\n",
    "    for j in range(sizeX + 1):\n",
    "        print(f'f{i}({j}) = max{sMatFormat(i,j)} = {fMat[i][j]}, p{i}({j}) = {pMat[i][j]}')\n"
   ]
  },
  {
   "cell_type": "markdown",
   "metadata": {},
   "source": [
    "### f_1(X) and p_1(X)\n"
   ]
  },
  {
   "cell_type": "code",
   "execution_count": 10,
   "metadata": {},
   "outputs": [
    {
     "name": "stdout",
     "output_type": "stream",
     "text": [
      "f1(8) = max['0 + 21', '3 + 19', '7 + 17', '10 + 13', '12 + 9', '13 + 6', '14 + 4', '14 + 2', '14 + 0'] = 24, p1(8) = [2]\n"
     ]
    }
   ],
   "source": [
    "print(f'f{1}({sizeX}) = max{sMatFormat(1, sizeX)} = {fMat[1][sizeX]}, p{1}({sizeX}) = {pMat[1][sizeX]}')\n"
   ]
  },
  {
   "cell_type": "markdown",
   "metadata": {},
   "source": [
    "### f_1(x) and p_1(x) (in case you need them)\n"
   ]
  },
  {
   "cell_type": "code",
   "execution_count": 11,
   "metadata": {},
   "outputs": [],
   "source": [
    "# for j in range(sizeX + 1):\n",
    "#     print(f'f{1}({j}) = max{sMatFormat(1,j)} = {fMat[1][j]}, p{1}({j}) = {pMat[1][j]}')\n"
   ]
  },
  {
   "cell_type": "markdown",
   "metadata": {},
   "source": [
    "### Backtracking\n"
   ]
  },
  {
   "cell_type": "code",
   "execution_count": 12,
   "metadata": {},
   "outputs": [
    {
     "name": "stdout",
     "output_type": "stream",
     "text": [
      "Optional allocation\n",
      "x1 = 2, x2 = 6, x3 = 0, x4 = 0, \n",
      "f1(8) = 24\n"
     ]
    }
   ],
   "source": [
    "print(\"Optional allocation\")\n",
    "print(xStr)\n",
    "\n",
    "print(f'f{1}({sizeX}) = {fMat[1][sizeX]}')\n"
   ]
  },
  {
   "cell_type": "code",
   "execution_count": 13,
   "metadata": {},
   "outputs": [
    {
     "name": "stdout",
     "output_type": "stream",
     "text": [
      "Check\n",
      "r1(2) = 7, r2(6) = 17, r3(0) = 0, r4(0) = 0, \n",
      "Sum of rk =  24\n"
     ]
    }
   ],
   "source": [
    "print(\"Check\")\n",
    "print(rStr)\n",
    "\n",
    "print('Sum of rk = ', sum(j for i, j in xrArr))\n"
   ]
  },
  {
   "cell_type": "markdown",
   "metadata": {},
   "source": [
    "### Brute force\n"
   ]
  },
  {
   "cell_type": "code",
   "execution_count": 14,
   "metadata": {},
   "outputs": [
    {
     "data": {
      "text/html": [
       "<div>\n",
       "<style scoped>\n",
       "    .dataframe tbody tr th:only-of-type {\n",
       "        vertical-align: middle;\n",
       "    }\n",
       "\n",
       "    .dataframe tbody tr th {\n",
       "        vertical-align: top;\n",
       "    }\n",
       "\n",
       "    .dataframe thead th {\n",
       "        text-align: right;\n",
       "    }\n",
       "</style>\n",
       "<table border=\"1\" class=\"dataframe\">\n",
       "  <thead>\n",
       "    <tr style=\"text-align: right;\">\n",
       "      <th></th>\n",
       "      <th>0</th>\n",
       "      <th>1</th>\n",
       "      <th>2</th>\n",
       "      <th>3</th>\n",
       "      <th>4</th>\n",
       "      <th>5</th>\n",
       "      <th>6</th>\n",
       "      <th>7</th>\n",
       "      <th>8</th>\n",
       "    </tr>\n",
       "  </thead>\n",
       "  <tbody>\n",
       "    <tr>\n",
       "      <th>0</th>\n",
       "      <td>0</td>\n",
       "      <td>0</td>\n",
       "      <td>0</td>\n",
       "      <td>0</td>\n",
       "      <td>0</td>\n",
       "      <td>0</td>\n",
       "      <td>8</td>\n",
       "      <td>17</td>\n",
       "      <td>17</td>\n",
       "    </tr>\n",
       "    <tr>\n",
       "      <th>1</th>\n",
       "      <td>0</td>\n",
       "      <td>0</td>\n",
       "      <td>0</td>\n",
       "      <td>0</td>\n",
       "      <td>1</td>\n",
       "      <td>2</td>\n",
       "      <td>7</td>\n",
       "      <td>16</td>\n",
       "      <td>18</td>\n",
       "    </tr>\n",
       "    <tr>\n",
       "      <th>2</th>\n",
       "      <td>0</td>\n",
       "      <td>0</td>\n",
       "      <td>0</td>\n",
       "      <td>0</td>\n",
       "      <td>2</td>\n",
       "      <td>4</td>\n",
       "      <td>6</td>\n",
       "      <td>14</td>\n",
       "      <td>18</td>\n",
       "    </tr>\n",
       "    <tr>\n",
       "      <th>3</th>\n",
       "      <td>0</td>\n",
       "      <td>0</td>\n",
       "      <td>0</td>\n",
       "      <td>0</td>\n",
       "      <td>3</td>\n",
       "      <td>6</td>\n",
       "      <td>5</td>\n",
       "      <td>12</td>\n",
       "      <td>18</td>\n",
       "    </tr>\n",
       "    <tr>\n",
       "      <th>4</th>\n",
       "      <td>0</td>\n",
       "      <td>0</td>\n",
       "      <td>0</td>\n",
       "      <td>0</td>\n",
       "      <td>4</td>\n",
       "      <td>8</td>\n",
       "      <td>4</td>\n",
       "      <td>9</td>\n",
       "      <td>17</td>\n",
       "    </tr>\n",
       "    <tr>\n",
       "      <th>...</th>\n",
       "      <td>...</td>\n",
       "      <td>...</td>\n",
       "      <td>...</td>\n",
       "      <td>...</td>\n",
       "      <td>...</td>\n",
       "      <td>...</td>\n",
       "      <td>...</td>\n",
       "      <td>...</td>\n",
       "      <td>...</td>\n",
       "    </tr>\n",
       "    <tr>\n",
       "      <th>160</th>\n",
       "      <td>6</td>\n",
       "      <td>14</td>\n",
       "      <td>2</td>\n",
       "      <td>2</td>\n",
       "      <td>0</td>\n",
       "      <td>0</td>\n",
       "      <td>0</td>\n",
       "      <td>0</td>\n",
       "      <td>16</td>\n",
       "    </tr>\n",
       "    <tr>\n",
       "      <th>161</th>\n",
       "      <td>7</td>\n",
       "      <td>14</td>\n",
       "      <td>0</td>\n",
       "      <td>0</td>\n",
       "      <td>0</td>\n",
       "      <td>0</td>\n",
       "      <td>1</td>\n",
       "      <td>1</td>\n",
       "      <td>15</td>\n",
       "    </tr>\n",
       "    <tr>\n",
       "      <th>162</th>\n",
       "      <td>7</td>\n",
       "      <td>14</td>\n",
       "      <td>0</td>\n",
       "      <td>0</td>\n",
       "      <td>1</td>\n",
       "      <td>2</td>\n",
       "      <td>0</td>\n",
       "      <td>0</td>\n",
       "      <td>16</td>\n",
       "    </tr>\n",
       "    <tr>\n",
       "      <th>163</th>\n",
       "      <td>7</td>\n",
       "      <td>14</td>\n",
       "      <td>1</td>\n",
       "      <td>1</td>\n",
       "      <td>0</td>\n",
       "      <td>0</td>\n",
       "      <td>0</td>\n",
       "      <td>0</td>\n",
       "      <td>15</td>\n",
       "    </tr>\n",
       "    <tr>\n",
       "      <th>164</th>\n",
       "      <td>8</td>\n",
       "      <td>14</td>\n",
       "      <td>0</td>\n",
       "      <td>0</td>\n",
       "      <td>0</td>\n",
       "      <td>0</td>\n",
       "      <td>0</td>\n",
       "      <td>0</td>\n",
       "      <td>14</td>\n",
       "    </tr>\n",
       "  </tbody>\n",
       "</table>\n",
       "<p>165 rows × 9 columns</p>\n",
       "</div>"
      ],
      "text/plain": [
       "     0   1  2  3  4  5  6   7   8\n",
       "0    0   0  0  0  0  0  8  17  17\n",
       "1    0   0  0  0  1  2  7  16  18\n",
       "2    0   0  0  0  2  4  6  14  18\n",
       "3    0   0  0  0  3  6  5  12  18\n",
       "4    0   0  0  0  4  8  4   9  17\n",
       "..  ..  .. .. .. .. .. ..  ..  ..\n",
       "160  6  14  2  2  0  0  0   0  16\n",
       "161  7  14  0  0  0  0  1   1  15\n",
       "162  7  14  0  0  1  2  0   0  16\n",
       "163  7  14  1  1  0  0  0   0  15\n",
       "164  8  14  0  0  0  0  0   0  14\n",
       "\n",
       "[165 rows x 9 columns]"
      ]
     },
     "execution_count": 14,
     "metadata": {},
     "output_type": "execute_result"
    }
   ],
   "source": [
    "possible = pd.MultiIndex.from_product([list(range(sizeX + 1))] * sizeN).to_numpy()\n",
    "possible = [item for item in possible if sum(item) == sizeX]\n",
    "bf = pd.DataFrame(index=range(len(possible)), columns=range(2 * sizeN))\n",
    "\n",
    "for i, items in enumerate(possible):\n",
    "    for j, item in enumerate(items):\n",
    "        bf[j * 2][i] = item\n",
    "        bf[j * 2 + 1][i] = df[(j + 1)*2][item]\n",
    "\n",
    "bf[2 * sizeN] = sum([bf[i] for i in range(1, len(bf.columns), 2)])\n",
    "bf\n"
   ]
  },
  {
   "cell_type": "markdown",
   "metadata": {},
   "source": [
    "### Print as CSV"
   ]
  },
  {
   "cell_type": "code",
   "execution_count": 15,
   "metadata": {},
   "outputs": [],
   "source": [
    "# bf.to_csv('out.csv')"
   ]
  },
  {
   "cell_type": "markdown",
   "metadata": {},
   "source": [
    "### Brute force's optimal solutions\n"
   ]
  },
  {
   "cell_type": "code",
   "execution_count": 16,
   "metadata": {},
   "outputs": [
    {
     "data": {
      "text/html": [
       "<div>\n",
       "<style scoped>\n",
       "    .dataframe tbody tr th:only-of-type {\n",
       "        vertical-align: middle;\n",
       "    }\n",
       "\n",
       "    .dataframe tbody tr th {\n",
       "        vertical-align: top;\n",
       "    }\n",
       "\n",
       "    .dataframe thead th {\n",
       "        text-align: right;\n",
       "    }\n",
       "</style>\n",
       "<table border=\"1\" class=\"dataframe\">\n",
       "  <thead>\n",
       "    <tr style=\"text-align: right;\">\n",
       "      <th></th>\n",
       "      <th>0</th>\n",
       "      <th>1</th>\n",
       "      <th>2</th>\n",
       "      <th>3</th>\n",
       "      <th>4</th>\n",
       "      <th>5</th>\n",
       "      <th>6</th>\n",
       "      <th>7</th>\n",
       "      <th>8</th>\n",
       "    </tr>\n",
       "  </thead>\n",
       "  <tbody>\n",
       "    <tr>\n",
       "      <th>108</th>\n",
       "      <td>2</td>\n",
       "      <td>7</td>\n",
       "      <td>6</td>\n",
       "      <td>17</td>\n",
       "      <td>0</td>\n",
       "      <td>0</td>\n",
       "      <td>0</td>\n",
       "      <td>0</td>\n",
       "      <td>24</td>\n",
       "    </tr>\n",
       "  </tbody>\n",
       "</table>\n",
       "</div>"
      ],
      "text/plain": [
       "     0  1  2   3  4  5  6  7   8\n",
       "108  2  7  6  17  0  0  0  0  24"
      ]
     },
     "execution_count": 16,
     "metadata": {},
     "output_type": "execute_result"
    }
   ],
   "source": [
    "bf[bf[2 * sizeN] == max(bf[2 * sizeN])]\n"
   ]
  }
 ],
 "metadata": {
  "kernelspec": {
   "display_name": "Python 3.10.6 ('2001')",
   "language": "python",
   "name": "python3"
  },
  "language_info": {
   "codemirror_mode": {
    "name": "ipython",
    "version": 3
   },
   "file_extension": ".py",
   "mimetype": "text/x-python",
   "name": "python",
   "nbconvert_exporter": "python",
   "pygments_lexer": "ipython3",
   "version": "3.10.6"
  },
  "orig_nbformat": 4,
  "vscode": {
   "interpreter": {
    "hash": "98ca2e07560d35728ccdebd1543520761a78888f7ef0f79ced70cde6f7b9b0d4"
   }
  }
 },
 "nbformat": 4,
 "nbformat_minor": 2
}
