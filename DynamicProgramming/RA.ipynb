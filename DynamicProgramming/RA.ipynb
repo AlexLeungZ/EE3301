{
 "cells": [
  {
   "cell_type": "markdown",
   "metadata": {},
   "source": [
    "### Library\n"
   ]
  },
  {
   "cell_type": "code",
   "execution_count": 1,
   "metadata": {},
   "outputs": [],
   "source": [
    "import pandas as pd\n"
   ]
  },
  {
   "cell_type": "markdown",
   "metadata": {},
   "source": [
    "### Data input\n",
    "\n",
    "1. You can type the given table after the modification to the RA.csv\n",
    "2. sizeX is the given X\n",
    "3. sizeX is the given N\n"
   ]
  },
  {
   "cell_type": "code",
   "execution_count": 2,
   "metadata": {},
   "outputs": [],
   "source": [
    "sizeX = 6\n",
    "sizeN = 4\n"
   ]
  },
  {
   "cell_type": "markdown",
   "metadata": {},
   "source": [
    "### Data convertion\n"
   ]
  },
  {
   "cell_type": "code",
   "execution_count": 3,
   "metadata": {},
   "outputs": [
    {
     "data": {
      "text/html": [
       "<div>\n",
       "<style scoped>\n",
       "    .dataframe tbody tr th:only-of-type {\n",
       "        vertical-align: middle;\n",
       "    }\n",
       "\n",
       "    .dataframe tbody tr th {\n",
       "        vertical-align: top;\n",
       "    }\n",
       "\n",
       "    .dataframe thead th {\n",
       "        text-align: right;\n",
       "    }\n",
       "</style>\n",
       "<table border=\"1\" class=\"dataframe\">\n",
       "  <thead>\n",
       "    <tr style=\"text-align: right;\">\n",
       "      <th></th>\n",
       "      <th>1</th>\n",
       "      <th>2</th>\n",
       "      <th>3</th>\n",
       "      <th>4</th>\n",
       "      <th>5</th>\n",
       "      <th>6</th>\n",
       "      <th>7</th>\n",
       "      <th>8</th>\n",
       "    </tr>\n",
       "  </thead>\n",
       "  <tbody>\n",
       "    <tr>\n",
       "      <th>0</th>\n",
       "      <td>0</td>\n",
       "      <td>0</td>\n",
       "      <td>0</td>\n",
       "      <td>0</td>\n",
       "      <td>0</td>\n",
       "      <td>0</td>\n",
       "      <td>0</td>\n",
       "      <td>0</td>\n",
       "    </tr>\n",
       "    <tr>\n",
       "      <th>1</th>\n",
       "      <td>1</td>\n",
       "      <td>3</td>\n",
       "      <td>1</td>\n",
       "      <td>2</td>\n",
       "      <td>1</td>\n",
       "      <td>1</td>\n",
       "      <td>1</td>\n",
       "      <td>11</td>\n",
       "    </tr>\n",
       "    <tr>\n",
       "      <th>2</th>\n",
       "      <td>2</td>\n",
       "      <td>6</td>\n",
       "      <td>2</td>\n",
       "      <td>3</td>\n",
       "      <td>2</td>\n",
       "      <td>3</td>\n",
       "      <td>2</td>\n",
       "      <td>13</td>\n",
       "    </tr>\n",
       "    <tr>\n",
       "      <th>3</th>\n",
       "      <td>3</td>\n",
       "      <td>8</td>\n",
       "      <td>3</td>\n",
       "      <td>5</td>\n",
       "      <td>3</td>\n",
       "      <td>7</td>\n",
       "      <td>3</td>\n",
       "      <td>16</td>\n",
       "    </tr>\n",
       "    <tr>\n",
       "      <th>4</th>\n",
       "      <td>4</td>\n",
       "      <td>10</td>\n",
       "      <td>4</td>\n",
       "      <td>7</td>\n",
       "      <td>4</td>\n",
       "      <td>9</td>\n",
       "      <td>4</td>\n",
       "      <td>19</td>\n",
       "    </tr>\n",
       "    <tr>\n",
       "      <th>5</th>\n",
       "      <td>5</td>\n",
       "      <td>13</td>\n",
       "      <td>5</td>\n",
       "      <td>9</td>\n",
       "      <td>5</td>\n",
       "      <td>11</td>\n",
       "      <td>5</td>\n",
       "      <td>20</td>\n",
       "    </tr>\n",
       "    <tr>\n",
       "      <th>6</th>\n",
       "      <td>6</td>\n",
       "      <td>13</td>\n",
       "      <td>6</td>\n",
       "      <td>12</td>\n",
       "      <td>6</td>\n",
       "      <td>13</td>\n",
       "      <td>6</td>\n",
       "      <td>21</td>\n",
       "    </tr>\n",
       "  </tbody>\n",
       "</table>\n",
       "</div>"
      ],
      "text/plain": [
       "   1   2  3   4  5   6  7   8\n",
       "0  0   0  0   0  0   0  0   0\n",
       "1  1   3  1   2  1   1  1  11\n",
       "2  2   6  2   3  2   3  2  13\n",
       "3  3   8  3   5  3   7  3  16\n",
       "4  4  10  4   7  4   9  4  19\n",
       "5  5  13  5   9  5  11  5  20\n",
       "6  6  13  6  12  6  13  6  21"
      ]
     },
     "execution_count": 3,
     "metadata": {},
     "output_type": "execute_result"
    }
   ],
   "source": [
    "df = pd.read_csv(\"RA.csv\", header=None, dtype=int)\n",
    "df.columns = (df.columns + 1)\n",
    "df\n"
   ]
  },
  {
   "cell_type": "code",
   "execution_count": 4,
   "metadata": {},
   "outputs": [],
   "source": [
    "fMat = pd.DataFrame(index=range(sizeX + 1), columns=range(1, sizeN + 1))\n",
    "sMat = pd.DataFrame(index=range(sizeX + 1), columns=range(1, sizeN + 1))\n",
    "pMat = pd.DataFrame(index=range(sizeX + 1), columns=range(1, sizeN + 1))\n"
   ]
  },
  {
   "cell_type": "code",
   "execution_count": 5,
   "metadata": {},
   "outputs": [],
   "source": [
    "for i in range(sizeN, 0, -1):\n",
    "    for j in range(sizeX + 1):\n",
    "        if i == sizeN:\n",
    "            sMat[i][j] = [df[i * 2][j]]\n",
    "            fMat[i][j] = max(sMat[i][j])\n",
    "            pMat[i][j] = j\n",
    "        else:\n",
    "            sMat[i][j] = [[df[i * 2][k], fMat[i + 1][h]] for h, k in zip(range(j, -1, -1), range(j + 1))]\n",
    "            fAllocated = [sum(stp) for stp in sMat[i][j]]\n",
    "            fMat[i][j] = max(fAllocated)\n",
    "            pMat[i][j] = [index for index, x in enumerate(fAllocated) if x == fMat[i][j]]\n"
   ]
  },
  {
   "cell_type": "code",
   "execution_count": 6,
   "metadata": {},
   "outputs": [],
   "source": [
    "def sMatFormat(i, j): return [f'{item[0]} + {item[1]}' for item in sMat[i][j]]\n"
   ]
  },
  {
   "cell_type": "markdown",
   "metadata": {},
   "source": [
    "### Boundary Condition\n"
   ]
  },
  {
   "cell_type": "code",
   "execution_count": 7,
   "metadata": {},
   "outputs": [
    {
     "name": "stdout",
     "output_type": "stream",
     "text": [
      "Boundary Condition\n",
      "f4(0) = 0, p4(0) = 0\n",
      "f4(1) = 11, p4(1) = 1\n",
      "f4(2) = 13, p4(2) = 2\n",
      "f4(3) = 16, p4(3) = 3\n",
      "f4(4) = 19, p4(4) = 4\n",
      "f4(5) = 20, p4(5) = 5\n",
      "f4(6) = 21, p4(6) = 6\n"
     ]
    }
   ],
   "source": [
    "print(f'Boundary Condition')\n",
    "for j in range(sizeX + 1):\n",
    "    print(f'f{sizeN}({j}) = {fMat[sizeN][j]}, p{sizeN}({j}) = {pMat[sizeN][j]}')\n"
   ]
  },
  {
   "cell_type": "markdown",
   "metadata": {},
   "source": [
    "### f_k(x) and p_k(x)\n"
   ]
  },
  {
   "cell_type": "code",
   "execution_count": 8,
   "metadata": {},
   "outputs": [
    {
     "name": "stdout",
     "output_type": "stream",
     "text": [
      "For k = 3\n",
      "f3(0) = max['0 + 0'] = 0, p3(0) = [0]\n",
      "f3(1) = max['0 + 11', '1 + 0'] = 11, p3(1) = [0]\n",
      "f3(2) = max['0 + 13', '1 + 11', '3 + 0'] = 13, p3(2) = [0]\n",
      "f3(3) = max['0 + 16', '1 + 13', '3 + 11', '7 + 0'] = 16, p3(3) = [0]\n",
      "f3(4) = max['0 + 19', '1 + 16', '3 + 13', '7 + 11', '9 + 0'] = 19, p3(4) = [0]\n",
      "f3(5) = max['0 + 20', '1 + 19', '3 + 16', '7 + 13', '9 + 11', '11 + 0'] = 20, p3(5) = [0, 1, 3, 4]\n",
      "f3(6) = max['0 + 21', '1 + 20', '3 + 19', '7 + 16', '9 + 13', '11 + 11', '13 + 0'] = 23, p3(6) = [3]\n",
      "For k = 2\n",
      "f2(0) = max['0 + 0'] = 0, p2(0) = [0]\n",
      "f2(1) = max['0 + 11', '2 + 0'] = 11, p2(1) = [0]\n",
      "f2(2) = max['0 + 13', '2 + 11', '3 + 0'] = 13, p2(2) = [0, 1]\n",
      "f2(3) = max['0 + 16', '2 + 13', '3 + 11', '5 + 0'] = 16, p2(3) = [0]\n",
      "f2(4) = max['0 + 19', '2 + 16', '3 + 13', '5 + 11', '7 + 0'] = 19, p2(4) = [0]\n",
      "f2(5) = max['0 + 20', '2 + 19', '3 + 16', '5 + 13', '7 + 11', '9 + 0'] = 21, p2(5) = [1]\n",
      "f2(6) = max['0 + 23', '2 + 20', '3 + 19', '5 + 16', '7 + 13', '9 + 11', '12 + 0'] = 23, p2(6) = [0]\n"
     ]
    }
   ],
   "source": [
    "for i in range(sizeN - 1, 1, -1):\n",
    "    print(f'For k = {i}')\n",
    "    for j in range(sizeX + 1):\n",
    "        print(f'f{i}({j}) = max{sMatFormat(i,j)} = {fMat[i][j]}, p{i}({j}) = {pMat[i][j]}')\n"
   ]
  },
  {
   "cell_type": "markdown",
   "metadata": {},
   "source": [
    "### f_1(X) and p_1(X)\n"
   ]
  },
  {
   "cell_type": "code",
   "execution_count": 9,
   "metadata": {},
   "outputs": [
    {
     "name": "stdout",
     "output_type": "stream",
     "text": [
      "f1(6) = max['0 + 23', '3 + 21', '6 + 19', '8 + 16', '10 + 13', '13 + 11', '13 + 0'] = 25, p1(6) = [2]\n"
     ]
    }
   ],
   "source": [
    "print(f'f{1}({sizeX}) = max{sMatFormat(1, sizeX)} = {fMat[1][sizeX]}, p{1}({sizeX}) = {pMat[1][sizeX]}')\n"
   ]
  },
  {
   "cell_type": "markdown",
   "metadata": {},
   "source": [
    "### f_1(x) and p_1(x) (in case you need them)\n"
   ]
  },
  {
   "cell_type": "code",
   "execution_count": 10,
   "metadata": {},
   "outputs": [],
   "source": [
    "# for j in range(sizeX + 1):\n",
    "#     print(f'f{1}({j}) = max{sMatFormat(1,j)} = {fMat[1][j]}, p{1}({j}) = {pMat[1][j]}')\n"
   ]
  }
 ],
 "metadata": {
  "kernelspec": {
   "display_name": "Python 3.10.6 ('2001')",
   "language": "python",
   "name": "python3"
  },
  "language_info": {
   "codemirror_mode": {
    "name": "ipython",
    "version": 3
   },
   "file_extension": ".py",
   "mimetype": "text/x-python",
   "name": "python",
   "nbconvert_exporter": "python",
   "pygments_lexer": "ipython3",
   "version": "3.10.6"
  },
  "orig_nbformat": 4,
  "vscode": {
   "interpreter": {
    "hash": "98ca2e07560d35728ccdebd1543520761a78888f7ef0f79ced70cde6f7b9b0d4"
   }
  }
 },
 "nbformat": 4,
 "nbformat_minor": 2
}
