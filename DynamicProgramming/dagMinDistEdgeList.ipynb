{
 "cells": [
  {
   "cell_type": "markdown",
   "metadata": {},
   "source": [
    "### Library\n"
   ]
  },
  {
   "cell_type": "code",
   "execution_count": 9,
   "metadata": {},
   "outputs": [],
   "source": [
    "import networkx as nx\n",
    "import pandas as pd\n"
   ]
  },
  {
   "cell_type": "markdown",
   "metadata": {},
   "source": [
    "### Read Data and create graph\n"
   ]
  },
  {
   "cell_type": "code",
   "execution_count": 10,
   "metadata": {},
   "outputs": [],
   "source": [
    "df = pd.read_csv('dagMinDistEdgeList.csv', header=None)\n",
    "df.columns = [\"source\", \"target\", \"weight\"]\n",
    "\n",
    "graph = nx.from_pandas_edgelist(df, edge_attr=True, create_using=nx.MultiDiGraph())\n",
    "destination = \"b\"\n"
   ]
  },
  {
   "cell_type": "markdown",
   "metadata": {},
   "source": [
    "### Original edge list\n"
   ]
  },
  {
   "cell_type": "code",
   "execution_count": 11,
   "metadata": {},
   "outputs": [
    {
     "name": "stdout",
     "output_type": "stream",
     "text": [
      "a c 8\n",
      "a d 3\n",
      "c e 3\n",
      "c f 7\n",
      "e h 10\n",
      "e i 2\n",
      "h b 6\n",
      "h b 9\n",
      "d f 4\n",
      "d g 10\n",
      "f i 2\n",
      "f j 5\n",
      "i b 1\n",
      "i b 10\n",
      "g j 2\n",
      "g k 9\n",
      "j b 3\n",
      "j b 4\n",
      "k b 1\n",
      "k b 9\n"
     ]
    }
   ],
   "source": [
    "for edge in graph.edges(data=True):\n",
    "    print(f\"{edge[0]} {edge[1]} {edge[2]['weight']}\")\n"
   ]
  },
  {
   "cell_type": "markdown",
   "metadata": {},
   "source": [
    "### Recurrence Relations\n"
   ]
  },
  {
   "cell_type": "code",
   "execution_count": 12,
   "metadata": {},
   "outputs": [
    {
     "name": "stdout",
     "output_type": "stream",
     "text": [
      "Node: a min: {'c': {0: {'weight': 8}}, 'd': {0: {'weight': 3}}}\n",
      "Node: c min: {'e': {0: {'weight': 3}}, 'f': {0: {'weight': 7}}}\n",
      "Node: d min: {'f': {0: {'weight': 4}}, 'g': {0: {'weight': 10}}}\n",
      "Node: e min: {'h': {0: {'weight': 10}}, 'i': {0: {'weight': 2}}}\n",
      "Node: f min: {'i': {0: {'weight': 2}}, 'j': {0: {'weight': 5}}}\n",
      "Node: g min: {'j': {0: {'weight': 2}}, 'k': {0: {'weight': 9}}}\n",
      "Node: h min: {'b': {0: {'weight': 6}, 1: {'weight': 9}}}\n",
      "Node: i min: {'b': {0: {'weight': 1}, 1: {'weight': 10}}}\n",
      "Node: j min: {'b': {0: {'weight': 3}, 1: {'weight': 4}}}\n",
      "Node: k min: {'b': {0: {'weight': 1}, 1: {'weight': 9}}}\n"
     ]
    }
   ],
   "source": [
    "for source in sorted(list(graph.nodes)):\n",
    "    if source is destination:\n",
    "        continue\n",
    "    print(f'Node: {source} min: {graph.succ[source]}')\n"
   ]
  },
  {
   "cell_type": "markdown",
   "metadata": {},
   "source": [
    "### Optimal Value Function and Optimal Policy Function\n"
   ]
  },
  {
   "cell_type": "code",
   "execution_count": 13,
   "metadata": {},
   "outputs": [
    {
     "name": "stdout",
     "output_type": "stream",
     "text": [
      "Sa = 10, Pa = d\n",
      "Node: a Dist: 10\n",
      "Path: a 🡢 d 🡢 f 🡢 i 🡢 b\n",
      "Sc = 6, Pc = e\n",
      "Node: c Dist: 6\n",
      "Path: c 🡢 e 🡢 i 🡢 b\n",
      "Sd = 7, Pd = f\n",
      "Node: d Dist: 7\n",
      "Path: d 🡢 f 🡢 i 🡢 b\n",
      "Se = 3, Pe = i\n",
      "Node: e Dist: 3\n",
      "Path: e 🡢 i 🡢 b\n",
      "Sf = 3, Pf = i\n",
      "Node: f Dist: 3\n",
      "Path: f 🡢 i 🡢 b\n",
      "Sg = 5, Pg = j\n",
      "Node: g Dist: 5\n",
      "Path: g 🡢 j 🡢 b\n",
      "Sh = 6, Ph = b\n",
      "Node: h Dist: 6\n",
      "Path: h 🡢 b\n",
      "Si = 1, Pi = b\n",
      "Node: i Dist: 1\n",
      "Path: i 🡢 b\n",
      "Sj = 3, Pj = b\n",
      "Node: j Dist: 3\n",
      "Path: j 🡢 b\n",
      "Sk = 1, Pk = b\n",
      "Node: k Dist: 1\n",
      "Path: k 🡢 b\n"
     ]
    }
   ],
   "source": [
    "for source in sorted(list(graph.nodes)):\n",
    "    if source is destination:\n",
    "        continue\n",
    "    dist = nx.bellman_ford_path_length(graph, source, destination)\n",
    "    path = nx.bellman_ford_path(graph, source, destination)\n",
    "    print(f\"S{source} = {dist}, P{source} = {path[1]}\")\n",
    "    print(f'Node: {source} Dist: {dist}')\n",
    "    print(f'Path: {\" 🡢 \".join(path)}')\n"
   ]
  },
  {
   "cell_type": "markdown",
   "metadata": {},
   "source": [
    "#### Square Graph Edge List Sample\n",
    "\n",
    "a,c,8\n",
    "c,e,10\n",
    "e,h,3\n",
    "d,f,3\n",
    "f,i,4\n",
    "i,l,6\n",
    "g,j,5\n",
    "j,m,8\n",
    "m,o,4\n",
    "k,n,7\n",
    "n,p,4\n",
    "p,b,5\n",
    "a,d,7\n",
    "c,f,4\n",
    "e,i,3\n",
    "h,l,10\n",
    "d,g,4\n",
    "f,j,8\n",
    "i,m,4\n",
    "l,o,10\n",
    "g,k,10\n",
    "j,n,7\n",
    "m,p,5\n",
    "o,b,3\n"
   ]
  },
  {
   "cell_type": "markdown",
   "metadata": {},
   "source": [
    "#### Triangle Graph Edge List Sample\n",
    "\n",
    "a,c,8\n",
    "c,e,3\n",
    "e,h,10\n",
    "d,f,4\n",
    "f,i,2\n",
    "i,b,1\n",
    "i,b,10\n",
    "g,j,2\n",
    "h,b,6\n",
    "h,b,9\n",
    "e,i,2\n",
    "c,f,7\n",
    "f,j,5\n",
    "j,b,3\n",
    "j,b,4\n",
    "a,d,3\n",
    "d,g,10\n",
    "g,k,9\n",
    "k,b,1\n",
    "k,b,9\n"
   ]
  }
 ],
 "metadata": {
  "kernelspec": {
   "display_name": "Python 3.10.4 ('2001')",
   "language": "python",
   "name": "python3"
  },
  "language_info": {
   "codemirror_mode": {
    "name": "ipython",
    "version": 3
   },
   "file_extension": ".py",
   "mimetype": "text/x-python",
   "name": "python",
   "nbconvert_exporter": "python",
   "pygments_lexer": "ipython3",
   "version": "3.10.6"
  },
  "orig_nbformat": 4,
  "vscode": {
   "interpreter": {
    "hash": "98ca2e07560d35728ccdebd1543520761a78888f7ef0f79ced70cde6f7b9b0d4"
   }
  }
 },
 "nbformat": 4,
 "nbformat_minor": 2
}
