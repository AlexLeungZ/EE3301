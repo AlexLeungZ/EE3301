{
 "cells": [
  {
   "cell_type": "markdown",
   "metadata": {},
   "source": [
    "### Library\n"
   ]
  },
  {
   "cell_type": "code",
   "execution_count": 1,
   "metadata": {},
   "outputs": [],
   "source": [
    "import copy\n",
    "import itertools as it\n",
    "import networkx as nx\n",
    "import numpy as np\n",
    "import pandas as pd\n"
   ]
  },
  {
   "cell_type": "markdown",
   "metadata": {},
   "source": [
    "### Data input\n",
    "\n",
    "1. You can type the given table from the question to the DPTSP.csv directly without any convertion\n",
    "2. OR You can type the converted table directly to the DPTSP.csv and delete the following line in the input panel\n",
    "    - df = df.applymap(lambda x: int(userCode[x-1]) if x != 0 else x)\n"
   ]
  },
  {
   "cell_type": "markdown",
   "metadata": {},
   "source": [
    "### Data convertion\n"
   ]
  },
  {
   "cell_type": "code",
   "execution_count": 2,
   "metadata": {},
   "outputs": [],
   "source": [
    "df = pd.read_csv(\"DPTSP.csv\", header=None, dtype=int)\n",
    "df.index = (df.index + 1).astype(str)\n",
    "df.columns = (df.columns + 1).astype(str)\n"
   ]
  },
  {
   "cell_type": "markdown",
   "metadata": {},
   "source": [
    "### Input panel\n"
   ]
  },
  {
   "cell_type": "code",
   "execution_count": 3,
   "metadata": {},
   "outputs": [],
   "source": [
    "userCode = \"2694876301375324\"\n",
    "start = \"5\"  # normally should be 1\n"
   ]
  },
  {
   "cell_type": "code",
   "execution_count": 4,
   "metadata": {},
   "outputs": [],
   "source": [
    "# Mapping link cost j to jth digit of the code\n",
    "df = df.applymap(lambda x: int(userCode[x-1]) if x != 0 else x)\n",
    "G = nx.from_pandas_adjacency(df, create_using=nx.DiGraph())\n"
   ]
  },
  {
   "cell_type": "markdown",
   "metadata": {},
   "source": [
    "### New Adjacency Matrix\n"
   ]
  },
  {
   "cell_type": "code",
   "execution_count": 5,
   "metadata": {},
   "outputs": [
    {
     "name": "stdout",
     "output_type": "stream",
     "text": [
      "   1  2  3  4  5\n",
      "1  0  9  2  8  4\n",
      "2  2  0  8  4  9\n",
      "3  8  4  0  6  2\n",
      "4  9  2  9  0  9\n",
      "5  8  6  4  2  0\n"
     ]
    }
   ],
   "source": [
    "print(df)\n"
   ]
  },
  {
   "cell_type": "markdown",
   "metadata": {},
   "source": [
    "### Optimal policy function by steps\n"
   ]
  },
  {
   "cell_type": "code",
   "execution_count": 6,
   "metadata": {},
   "outputs": [],
   "source": [
    "def opf(it: int, nodeJ: str, nodes: list, inner=False):\n",
    "    minDist = []\n",
    "    lowest = \"\"\n",
    "\n",
    "    if it.__eq__(0):\n",
    "        dist = G.get_edge_data(start, nodeJ)[\"weight\"]\n",
    "\n",
    "    else:\n",
    "        subDist = {}\n",
    "\n",
    "        for node in nodes:\n",
    "            subset = copy.deepcopy(nodes)\n",
    "            subset.remove(node)\n",
    "\n",
    "            dist1 = opf(it-1, node, subset, True)[0]\n",
    "            dist2 = G.get_edge_data(node, nodeJ)[\"weight\"]\n",
    "            subDist[node] = dist1 + dist2\n",
    "\n",
    "            if not inner:\n",
    "                minDist.append(f'{dist1} + {dist2}')\n",
    "\n",
    "        lowest, dist = min(subDist.items(), key=lambda x: x[1])\n",
    "\n",
    "    return dist, lowest, minDist\n"
   ]
  },
  {
   "cell_type": "code",
   "execution_count": 7,
   "metadata": {},
   "outputs": [
    {
     "name": "stdout",
     "output_type": "stream",
     "text": [
      "f_0(1, _) = 8(5)\n",
      "f_0(2, _) = 6(5)\n",
      "f_0(3, _) = 4(5)\n",
      "f_0(4, _) = 2(5)\n",
      "f_1(1, ['2']) = min['6 + 2'] = 8(2)\n",
      "f_1(1, ['3']) = min['4 + 8'] = 12(3)\n",
      "f_1(1, ['4']) = min['2 + 9'] = 11(4)\n",
      "f_1(2, ['1']) = min['8 + 9'] = 17(1)\n",
      "f_1(2, ['3']) = min['4 + 4'] = 8(3)\n",
      "f_1(2, ['4']) = min['2 + 2'] = 4(4)\n",
      "f_1(3, ['1']) = min['8 + 2'] = 10(1)\n",
      "f_1(3, ['2']) = min['6 + 8'] = 14(2)\n",
      "f_1(3, ['4']) = min['2 + 9'] = 11(4)\n",
      "f_1(4, ['1']) = min['8 + 8'] = 16(1)\n",
      "f_1(4, ['2']) = min['6 + 4'] = 10(2)\n",
      "f_1(4, ['3']) = min['4 + 6'] = 10(3)\n",
      "f_2(1, ['2', '3']) = min['8 + 2', '14 + 8'] = 10(2)\n",
      "f_2(1, ['2', '4']) = min['4 + 2', '10 + 9'] = 6(2)\n",
      "f_2(1, ['3', '4']) = min['11 + 8', '10 + 9'] = 19(3)\n",
      "f_2(2, ['1', '3']) = min['12 + 9', '10 + 4'] = 14(3)\n",
      "f_2(2, ['1', '4']) = min['11 + 9', '16 + 2'] = 18(4)\n",
      "f_2(2, ['3', '4']) = min['11 + 4', '10 + 2'] = 12(4)\n",
      "f_2(3, ['1', '2']) = min['8 + 2', '17 + 8'] = 10(1)\n",
      "f_2(3, ['1', '4']) = min['11 + 2', '16 + 9'] = 13(1)\n",
      "f_2(3, ['2', '4']) = min['4 + 8', '10 + 9'] = 12(2)\n",
      "f_2(4, ['1', '2']) = min['8 + 8', '17 + 4'] = 16(1)\n",
      "f_2(4, ['1', '3']) = min['12 + 8', '10 + 6'] = 16(3)\n",
      "f_2(4, ['2', '3']) = min['8 + 4', '14 + 6'] = 12(2)\n",
      "f_3(1, ['2', '3', '4']) = min['12 + 2', '12 + 8', '12 + 9'] = 14(2)\n",
      "f_3(2, ['1', '3', '4']) = min['19 + 9', '13 + 4', '16 + 2'] = 17(3)\n",
      "f_3(3, ['1', '2', '4']) = min['6 + 2', '18 + 8', '16 + 9'] = 8(1)\n",
      "f_3(4, ['1', '2', '3']) = min['10 + 8', '14 + 4', '10 + 6'] = 16(3)\n",
      "f_4(5, ['1', '2', '3', '4']) = min['14 + 4', '17 + 9', '8 + 2', '16 + 9'] = 10(3)\n"
     ]
    }
   ],
   "source": [
    "seed = df.index.to_list()\n",
    "seed.remove(start)\n",
    "\n",
    "for i in seed:\n",
    "    minDist, source, minSort = opf(0, str(i), [])\n",
    "    print(f'f_0({i}, _) = {minDist}({start})')\n",
    "\n",
    "for i in range(1, len(df) - 1):\n",
    "    for j in seed:\n",
    "        for k in list(it.combinations([item for item in seed if item not in j], i)):\n",
    "            minDist, source, minSort = opf(i, str(j), list(k))\n",
    "            print(f'f_{i}({j}, {list(k)}) = min{minSort} = {minDist}({source})')\n",
    "\n",
    "minDist, source, minSort = opf(len(df) - 1, start, seed)\n",
    "print(f'f_{len(df) - 1}({start}, {seed}) = min{minSort} = {minDist}({source})')\n"
   ]
  },
  {
   "cell_type": "markdown",
   "metadata": {},
   "source": [
    "### Shortest tour\n"
   ]
  },
  {
   "cell_type": "code",
   "execution_count": 8,
   "metadata": {},
   "outputs": [
    {
     "data": {
      "text/plain": [
       "['5', '4', '2', '1', '3', '5']"
      ]
     },
     "execution_count": 8,
     "metadata": {},
     "output_type": "execute_result"
    }
   ],
   "source": [
    "path = nx.algorithms.approximation.threshold_accepting_tsp(G, \"greedy\", source=start)\n",
    "path\n"
   ]
  },
  {
   "cell_type": "markdown",
   "metadata": {},
   "source": [
    "### Graph by edge list\n"
   ]
  },
  {
   "cell_type": "code",
   "execution_count": 9,
   "metadata": {},
   "outputs": [
    {
     "name": "stdout",
     "output_type": "stream",
     "text": [
      "1 2 9\n",
      "1 3 2\n",
      "1 4 8\n",
      "1 5 4\n",
      "2 1 2\n",
      "2 3 8\n",
      "2 4 4\n",
      "2 5 9\n",
      "3 1 8\n",
      "3 2 4\n",
      "3 4 6\n",
      "3 5 2\n",
      "4 1 9\n",
      "4 2 2\n",
      "4 3 9\n",
      "4 5 9\n",
      "5 1 8\n",
      "5 2 6\n",
      "5 3 4\n",
      "5 4 2\n"
     ]
    }
   ],
   "source": [
    "for edge in G.edges(data=True):\n",
    "    print(f'{edge[0]} {edge[1]} {edge[-1][\"weight\"]}')\n"
   ]
  }
 ],
 "metadata": {
  "kernelspec": {
   "display_name": "Python 3.10.4 ('2001')",
   "language": "python",
   "name": "python3"
  },
  "language_info": {
   "codemirror_mode": {
    "name": "ipython",
    "version": 3
   },
   "file_extension": ".py",
   "mimetype": "text/x-python",
   "name": "python",
   "nbconvert_exporter": "python",
   "pygments_lexer": "ipython3",
   "version": "3.10.4"
  },
  "orig_nbformat": 4,
  "vscode": {
   "interpreter": {
    "hash": "98ca2e07560d35728ccdebd1543520761a78888f7ef0f79ced70cde6f7b9b0d4"
   }
  }
 },
 "nbformat": 4,
 "nbformat_minor": 2
}
