{
 "cells": [
  {
   "cell_type": "markdown",
   "metadata": {},
   "source": [
    "### Library\n"
   ]
  },
  {
   "cell_type": "code",
   "execution_count": 1,
   "metadata": {},
   "outputs": [],
   "source": [
    "import copy\n",
    "import itertools as it\n",
    "import networkx as nx\n",
    "import numpy as np\n",
    "import pandas as pd\n"
   ]
  },
  {
   "cell_type": "markdown",
   "metadata": {},
   "source": [
    "### Input panel"
   ]
  },
  {
   "cell_type": "code",
   "execution_count": 2,
   "metadata": {},
   "outputs": [],
   "source": [
    "userCode = \"41264024354\"\n"
   ]
  },
  {
   "cell_type": "markdown",
   "metadata": {},
   "source": [
    "### Data convertion "
   ]
  },
  {
   "cell_type": "code",
   "execution_count": 3,
   "metadata": {},
   "outputs": [],
   "source": [
    "df = pd.read_csv(\"DPTSP.csv\", header=None, dtype=int)\n",
    "df = df.applymap(lambda x: int(userCode[x-1]) if x != 0 else x)\n",
    "df.index = (df.index + 1).astype(str)\n",
    "df.columns = (df.columns + 1).astype(str)"
   ]
  },
  {
   "cell_type": "code",
   "execution_count": 4,
   "metadata": {},
   "outputs": [],
   "source": [
    "G = nx.from_pandas_adjacency(df, create_using=nx.DiGraph())\n",
    "node = sorted(G.nodes(data=True))\n"
   ]
  },
  {
   "cell_type": "markdown",
   "metadata": {},
   "source": [
    "### New Adjacency Matrix"
   ]
  },
  {
   "cell_type": "code",
   "execution_count": 5,
   "metadata": {},
   "outputs": [
    {
     "name": "stdout",
     "output_type": "stream",
     "text": [
      "   1  2  3  4  5\n",
      "1  0  2  4  4  6\n",
      "2  4  0  4  6  2\n",
      "3  4  6  0  1  4\n",
      "4  2  4  2  0  2\n",
      "5  4  1  6  4  0\n"
     ]
    }
   ],
   "source": [
    "print(df)\n"
   ]
  },
  {
   "cell_type": "markdown",
   "metadata": {},
   "source": [
    "### Optimal policy function by steps"
   ]
  },
  {
   "cell_type": "code",
   "execution_count": 6,
   "metadata": {},
   "outputs": [],
   "source": [
    "def opf(it: int, cityJ: str, nodes: list, inner=False):\n",
    "    minDist = []\n",
    "    lowest = \"\"\n",
    "\n",
    "    if it.__eq__(0):\n",
    "        dist = G.get_edge_data(node[0][0], cityJ)[\"weight\"]\n",
    "    else:\n",
    "        subDist = {}\n",
    "        for city in nodes:\n",
    "            subset = copy.deepcopy(nodes)\n",
    "            subset.remove(city)\n",
    "            dist1 = opf(it-1, city, subset, True)[0]\n",
    "            dist2 = G.get_edge_data(city, cityJ)[\"weight\"]\n",
    "            subDist[city] = dist1 + dist2\n",
    "            if not inner:\n",
    "                minDist.append(f'{dist1} + {dist2}')\n",
    "        lowest, dist = min(subDist.items(), key=lambda x: x[1])\n",
    "\n",
    "    return dist, lowest, minDist\n"
   ]
  },
  {
   "cell_type": "code",
   "execution_count": 7,
   "metadata": {},
   "outputs": [
    {
     "name": "stdout",
     "output_type": "stream",
     "text": [
      "f_0(2, _) = 2(1)\n",
      "f_0(3, _) = 4(1)\n",
      "f_0(4, _) = 4(1)\n",
      "f_0(5, _) = 6(1)\n",
      "f_1(2, ['3']) = min[['4 + 6']] = 10(3)\n",
      "f_1(2, ['4']) = min[['4 + 4']] = 8(4)\n",
      "f_1(2, ['5']) = min[['6 + 1']] = 7(5)\n",
      "f_1(3, ['2']) = min[['2 + 4']] = 6(2)\n",
      "f_1(3, ['4']) = min[['4 + 2']] = 6(4)\n",
      "f_1(3, ['5']) = min[['6 + 6']] = 12(5)\n",
      "f_1(4, ['2']) = min[['2 + 6']] = 8(2)\n",
      "f_1(4, ['3']) = min[['4 + 1']] = 5(3)\n",
      "f_1(4, ['5']) = min[['6 + 4']] = 10(5)\n",
      "f_1(5, ['2']) = min[['2 + 2']] = 4(2)\n",
      "f_1(5, ['3']) = min[['4 + 4']] = 8(3)\n",
      "f_1(5, ['4']) = min[['4 + 2']] = 6(4)\n",
      "f_2(2, ['3', '4']) = min[['6 + 6', '5 + 4']] = 9(4)\n",
      "f_2(2, ['3', '5']) = min[['12 + 6', '8 + 1']] = 9(5)\n",
      "f_2(2, ['4', '5']) = min[['10 + 4', '6 + 1']] = 7(5)\n",
      "f_2(3, ['2', '4']) = min[['8 + 4', '8 + 2']] = 10(4)\n",
      "f_2(3, ['2', '5']) = min[['7 + 4', '4 + 6']] = 10(5)\n",
      "f_2(3, ['4', '5']) = min[['10 + 2', '6 + 6']] = 12(4)\n",
      "f_2(4, ['2', '3']) = min[['10 + 6', '6 + 1']] = 7(3)\n",
      "f_2(4, ['2', '5']) = min[['7 + 6', '4 + 4']] = 8(5)\n",
      "f_2(4, ['3', '5']) = min[['12 + 1', '8 + 4']] = 12(5)\n",
      "f_2(5, ['2', '3']) = min[['10 + 2', '6 + 4']] = 10(3)\n",
      "f_2(5, ['2', '4']) = min[['8 + 2', '8 + 2']] = 10(2)\n",
      "f_2(5, ['3', '4']) = min[['6 + 4', '5 + 2']] = 7(4)\n",
      "f_3(2, ['3', '4', '5']) = min[['12 + 6', '12 + 4', '7 + 1']] = 8(5)\n",
      "f_3(3, ['2', '4', '5']) = min[['7 + 4', '8 + 2', '10 + 6']] = 10(4)\n",
      "f_3(4, ['2', '3', '5']) = min[['9 + 6', '10 + 1', '10 + 4']] = 11(3)\n",
      "f_3(5, ['2', '3', '4']) = min[['9 + 2', '10 + 4', '7 + 2']] = 9(4)\n",
      "f_4(1, ['2', '3', '4', '5']) = min[['8 + 4', '10 + 4', '11 + 2', '9 + 4']] = 12(2)\n"
     ]
    }
   ],
   "source": [
    "seed = df.index.to_list()[1:]\n",
    "\n",
    "for i in seed:\n",
    "    minDist, source, minSort = opf(0, str(i), [])\n",
    "    print(f'f_0({i}, _) = {minDist}(1)')\n",
    "\n",
    "for i in range(1, len(df) - 1):\n",
    "    for j in seed:\n",
    "        for k in list(it.combinations([item for item in seed if item not in j], i)):\n",
    "            minDist, source, minSort = opf(i, str(j), list(k))\n",
    "            print(f'f_{i}({j}, {list(k)}) = min[{minSort}] = {minDist}({source})')\n",
    "\n",
    "minDist, source, minSort = opf(len(df) - 1, str(1), seed)\n",
    "print(f'f_{len(df) - 1}(1, {seed}) = min[{minSort}] = {minDist}({source})')\n"
   ]
  },
  {
   "cell_type": "markdown",
   "metadata": {},
   "source": [
    "### Shortest tour"
   ]
  },
  {
   "cell_type": "code",
   "execution_count": 8,
   "metadata": {},
   "outputs": [
    {
     "data": {
      "text/plain": [
       "['1', '3', '4', '5', '2', '1']"
      ]
     },
     "execution_count": 8,
     "metadata": {},
     "output_type": "execute_result"
    }
   ],
   "source": [
    "path = nx.algorithms.approximation.threshold_accepting_tsp(G, \"greedy\", source=\"1\")\n",
    "path\n"
   ]
  },
  {
   "cell_type": "markdown",
   "metadata": {},
   "source": [
    "### Graph by edge list"
   ]
  },
  {
   "cell_type": "code",
   "execution_count": 9,
   "metadata": {},
   "outputs": [
    {
     "name": "stdout",
     "output_type": "stream",
     "text": [
      "1 2 2\n",
      "1 3 4\n",
      "1 4 4\n",
      "1 5 6\n",
      "2 1 4\n",
      "2 3 4\n",
      "2 4 6\n",
      "2 5 2\n",
      "3 1 4\n",
      "3 2 6\n",
      "3 4 1\n",
      "3 5 4\n",
      "4 1 2\n",
      "4 2 4\n",
      "4 3 2\n",
      "4 5 2\n",
      "5 1 4\n",
      "5 2 1\n",
      "5 3 6\n",
      "5 4 4\n"
     ]
    }
   ],
   "source": [
    "for edge in G.edges(data=True):\n",
    "    print(f'{edge[0]} {edge[1]} {edge[-1][\"weight\"]}')"
   ]
  }
 ],
 "metadata": {
  "kernelspec": {
   "display_name": "Python 3.10.4 ('2001')",
   "language": "python",
   "name": "python3"
  },
  "language_info": {
   "codemirror_mode": {
    "name": "ipython",
    "version": 3
   },
   "file_extension": ".py",
   "mimetype": "text/x-python",
   "name": "python",
   "nbconvert_exporter": "python",
   "pygments_lexer": "ipython3",
   "version": "3.10.4"
  },
  "orig_nbformat": 4,
  "vscode": {
   "interpreter": {
    "hash": "98ca2e07560d35728ccdebd1543520761a78888f7ef0f79ced70cde6f7b9b0d4"
   }
  }
 },
 "nbformat": 4,
 "nbformat_minor": 2
}
