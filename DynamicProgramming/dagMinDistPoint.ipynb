{
 "cells": [
  {
   "cell_type": "markdown",
   "metadata": {},
   "source": [
    "### Library\n"
   ]
  },
  {
   "cell_type": "code",
   "execution_count": 1,
   "metadata": {},
   "outputs": [],
   "source": [
    "from textwrap import wrap\n",
    "import networkx as nx\n",
    "import numpy as np\n"
   ]
  },
  {
   "cell_type": "markdown",
   "metadata": {},
   "source": [
    "### Input the nodes and edges in the following order:\n",
    "\n",
    "1. Follow this order for both nodes and edges:\n",
    "    - all of ⬈, from west to north, then from west to south\n",
    "    - all of ⬊, from west to north, then from west to south\n",
    "\n",
    "---\n",
    "\n",
    "2.  Set the following variables:\n",
    "    -   nodeName: name of nodes\n",
    "    -   user16num: given number from the question\n",
    "    -   givenVal: the edge weight of the origional graph\n",
    "    -   destination: name of the target node\n",
    "    -   offset: given by question like replacing the number by *i*th + j\n",
    "\n",
    "---\n",
    "\n",
    "3.  2021-2022 Test 1 Question 4:\n",
    "    -   nodeName = \"ACEHDFILGJMOKNPB\"\n",
    "    -   user16num = \"5973463937246920\"\n",
    "    -   givenVal = \"3,2,15,11,9,1,5,10,4,13,4,5,6,7,11,8,4,3,7,2,14,6,5,11\"\n",
    "    -   destination = \"B\"\n",
    "    -   offset = 1\n"
   ]
  },
  {
   "cell_type": "markdown",
   "metadata": {},
   "source": [
    "### Read Data and create graph\n"
   ]
  },
  {
   "cell_type": "code",
   "execution_count": 2,
   "metadata": {},
   "outputs": [],
   "source": [
    "nodeName = \"ACEHDFILGJMOKNPB\"\n",
    "user16num = \"5973463937246920\"\n",
    "givenVal = [3, 2, 15, 11, 9, 1, 5, 10, 4, 13, 4, 5, 6, 7, 11, 8, 4, 3, 7, 2, 14, 6, 5, 11]\n",
    "destination = \"B\"\n",
    "offset = 1\n"
   ]
  },
  {
   "cell_type": "code",
   "execution_count": 3,
   "metadata": {},
   "outputs": [
    {
     "name": "stdout",
     "output_type": "stream",
     "text": [
      "Num of nodes: 16\n",
      "Num of edges: 24\n"
     ]
    }
   ],
   "source": [
    "listUser = list(map(int, user16num))\n",
    "edgeVal = [listUser[i - 1] + offset for i in givenVal]\n",
    "matSize = int(np.sqrt(len(nodeName)))\n",
    "\n",
    "print(f'Num of nodes: {len(nodeName)}')\n",
    "print(f'Num of edges: {len(edgeVal)}')\n"
   ]
  },
  {
   "cell_type": "markdown",
   "metadata": {},
   "source": [
    "### Overwrite Edge Value directly for new question type\n"
   ]
  },
  {
   "cell_type": "code",
   "execution_count": 4,
   "metadata": {},
   "outputs": [],
   "source": [
    "# edgeVal = []\n"
   ]
  },
  {
   "cell_type": "markdown",
   "metadata": {},
   "source": [
    "### Edge list covertion\n"
   ]
  },
  {
   "cell_type": "code",
   "execution_count": 5,
   "metadata": {},
   "outputs": [],
   "source": [
    "edgeList = []\n",
    "graph = nx.MultiDiGraph()\n",
    "\n",
    "for i in wrap(nodeName, matSize):\n",
    "    edgeList.extend(zip(i, i[1:]))\n",
    "\n",
    "for i in range(len(nodeName) - matSize):\n",
    "    edgeList.extend([(nodeName[i], nodeName[i + matSize])])\n",
    "\n",
    "for i in [(*i, int(j)) for i, j in zip(edgeList, edgeVal)]:\n",
    "    graph.add_edge(i[0], i[1], weight=i[2])\n"
   ]
  },
  {
   "cell_type": "markdown",
   "metadata": {},
   "source": [
    "### Original edge list"
   ]
  },
  {
   "cell_type": "code",
   "execution_count": 6,
   "metadata": {},
   "outputs": [
    {
     "name": "stdout",
     "output_type": "stream",
     "text": [
      "A C 8\n",
      "A D 7\n",
      "C E 10\n",
      "C F 4\n",
      "E H 3\n",
      "E I 3\n",
      "H L 10\n",
      "D F 3\n",
      "D G 4\n",
      "F I 4\n",
      "F J 8\n",
      "I L 6\n",
      "I M 4\n",
      "L O 10\n",
      "G J 5\n",
      "G K 10\n",
      "J M 8\n",
      "J N 7\n",
      "M O 4\n",
      "M P 5\n",
      "O B 3\n",
      "K N 7\n",
      "N P 4\n",
      "P B 5\n"
     ]
    }
   ],
   "source": [
    "for edge in graph.edges(data=True):\n",
    "    print(f\"{edge[0]} {edge[1]} {edge[2]['weight']}\")\n"
   ]
  },
  {
   "cell_type": "markdown",
   "metadata": {},
   "source": [
    "### New edge weight order by input order\n"
   ]
  },
  {
   "cell_type": "code",
   "execution_count": 7,
   "metadata": {},
   "outputs": [
    {
     "name": "stdout",
     "output_type": "stream",
     "text": [
      "[8, 10, 3, 3, 4, 6, 5, 8, 4, 7, 4, 5, 7, 4, 3, 10, 4, 8, 4, 10, 10, 7, 5, 3]\n"
     ]
    }
   ],
   "source": [
    "print(edgeVal)\n"
   ]
  },
  {
   "cell_type": "markdown",
   "metadata": {},
   "source": [
    "### Recurrence Relations\n"
   ]
  },
  {
   "cell_type": "code",
   "execution_count": 8,
   "metadata": {},
   "outputs": [
    {
     "name": "stdout",
     "output_type": "stream",
     "text": [
      "Node: A min: {'C': {0: {'weight': 8}}, 'D': {0: {'weight': 7}}}\n",
      "Node: B min: {}\n",
      "Node: C min: {'E': {0: {'weight': 10}}, 'F': {0: {'weight': 4}}}\n",
      "Node: D min: {'F': {0: {'weight': 3}}, 'G': {0: {'weight': 4}}}\n",
      "Node: E min: {'H': {0: {'weight': 3}}, 'I': {0: {'weight': 3}}}\n",
      "Node: F min: {'I': {0: {'weight': 4}}, 'J': {0: {'weight': 8}}}\n",
      "Node: G min: {'J': {0: {'weight': 5}}, 'K': {0: {'weight': 10}}}\n",
      "Node: H min: {'L': {0: {'weight': 10}}}\n",
      "Node: I min: {'L': {0: {'weight': 6}}, 'M': {0: {'weight': 4}}}\n",
      "Node: J min: {'M': {0: {'weight': 8}}, 'N': {0: {'weight': 7}}}\n",
      "Node: K min: {'N': {0: {'weight': 7}}}\n",
      "Node: L min: {'O': {0: {'weight': 10}}}\n",
      "Node: M min: {'O': {0: {'weight': 4}}, 'P': {0: {'weight': 5}}}\n",
      "Node: N min: {'P': {0: {'weight': 4}}}\n",
      "Node: O min: {'B': {0: {'weight': 3}}}\n",
      "Node: P min: {'B': {0: {'weight': 5}}}\n"
     ]
    }
   ],
   "source": [
    "for source in sorted(list(graph.nodes)):\n",
    "    print(f'Node: {source} min: {graph.succ[source]}')\n"
   ]
  },
  {
   "cell_type": "markdown",
   "metadata": {},
   "source": [
    "### Dynamic Programming - Bellman Ford\n"
   ]
  },
  {
   "cell_type": "code",
   "execution_count": 9,
   "metadata": {},
   "outputs": [
    {
     "name": "stdout",
     "output_type": "stream",
     "text": [
      "Node: A Dist: 25\n",
      "Path: A 🡢 D 🡢 F 🡢 I 🡢 M 🡢 O 🡢 B\n",
      "Node: B Dist: 0\n",
      "Path: B\n",
      "Node: C Dist: 19\n",
      "Path: C 🡢 F 🡢 I 🡢 M 🡢 O 🡢 B\n",
      "Node: D Dist: 18\n",
      "Path: D 🡢 F 🡢 I 🡢 M 🡢 O 🡢 B\n",
      "Node: E Dist: 14\n",
      "Path: E 🡢 I 🡢 M 🡢 O 🡢 B\n",
      "Node: F Dist: 15\n",
      "Path: F 🡢 I 🡢 M 🡢 O 🡢 B\n",
      "Node: G Dist: 20\n",
      "Path: G 🡢 J 🡢 M 🡢 O 🡢 B\n",
      "Node: H Dist: 23\n",
      "Path: H 🡢 L 🡢 O 🡢 B\n",
      "Node: I Dist: 11\n",
      "Path: I 🡢 M 🡢 O 🡢 B\n",
      "Node: J Dist: 15\n",
      "Path: J 🡢 M 🡢 O 🡢 B\n",
      "Node: K Dist: 16\n",
      "Path: K 🡢 N 🡢 P 🡢 B\n",
      "Node: L Dist: 13\n",
      "Path: L 🡢 O 🡢 B\n",
      "Node: M Dist: 7\n",
      "Path: M 🡢 O 🡢 B\n",
      "Node: N Dist: 9\n",
      "Path: N 🡢 P 🡢 B\n",
      "Node: O Dist: 3\n",
      "Path: O 🡢 B\n",
      "Node: P Dist: 5\n",
      "Path: P 🡢 B\n"
     ]
    }
   ],
   "source": [
    "for source in sorted(list(graph.nodes)):\n",
    "    print(f'Node: {source} Dist: {nx.bellman_ford_path_length(graph, source, destination)}')\n",
    "    print(f'Path: {\" 🡢 \".join(nx.bellman_ford_path(graph, source, destination))}')\n"
   ]
  }
 ],
 "metadata": {
  "kernelspec": {
   "display_name": "Python 3.10.4 ('2001')",
   "language": "python",
   "name": "python3"
  },
  "language_info": {
   "codemirror_mode": {
    "name": "ipython",
    "version": 3
   },
   "file_extension": ".py",
   "mimetype": "text/x-python",
   "name": "python",
   "nbconvert_exporter": "python",
   "pygments_lexer": "ipython3",
   "version": "3.10.6"
  },
  "orig_nbformat": 4,
  "vscode": {
   "interpreter": {
    "hash": "98ca2e07560d35728ccdebd1543520761a78888f7ef0f79ced70cde6f7b9b0d4"
   }
  }
 },
 "nbformat": 4,
 "nbformat_minor": 2
}
