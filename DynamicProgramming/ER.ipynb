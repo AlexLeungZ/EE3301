{
 "cells": [
  {
   "cell_type": "markdown",
   "metadata": {},
   "source": [
    "### Library\n"
   ]
  },
  {
   "cell_type": "code",
   "execution_count": 1,
   "metadata": {},
   "outputs": [],
   "source": [
    "import pandas as pd\n"
   ]
  },
  {
   "cell_type": "markdown",
   "metadata": {},
   "source": [
    "### Data input\n",
    "\n",
    "1. You can type the given table after the modification to the RA.csv (do not put c(0) there)\n",
    " <!-- 2. Given N as sizeN -->\n",
    "2. Given Y as yearY\n",
    "3. Given c(0) as c0\n",
    "4. Given price as pn\n"
   ]
  },
  {
   "cell_type": "code",
   "execution_count": 2,
   "metadata": {},
   "outputs": [],
   "source": [
    "yearY = 2\n",
    "c0 = 10\n",
    "pn = 50\n"
   ]
  },
  {
   "cell_type": "markdown",
   "metadata": {},
   "source": [
    "### Data convertion\n"
   ]
  },
  {
   "cell_type": "code",
   "execution_count": 3,
   "metadata": {},
   "outputs": [
    {
     "data": {
      "text/html": [
       "<div>\n",
       "<style scoped>\n",
       "    .dataframe tbody tr th:only-of-type {\n",
       "        vertical-align: middle;\n",
       "    }\n",
       "\n",
       "    .dataframe tbody tr th {\n",
       "        vertical-align: top;\n",
       "    }\n",
       "\n",
       "    .dataframe thead th {\n",
       "        text-align: right;\n",
       "    }\n",
       "</style>\n",
       "<table border=\"1\" class=\"dataframe\">\n",
       "  <thead>\n",
       "    <tr style=\"text-align: right;\">\n",
       "      <th></th>\n",
       "      <th>c</th>\n",
       "      <th>t</th>\n",
       "      <th>s</th>\n",
       "    </tr>\n",
       "  </thead>\n",
       "  <tbody>\n",
       "    <tr>\n",
       "      <th>1</th>\n",
       "      <td>13</td>\n",
       "      <td>32</td>\n",
       "      <td>25</td>\n",
       "    </tr>\n",
       "    <tr>\n",
       "      <th>2</th>\n",
       "      <td>20</td>\n",
       "      <td>21</td>\n",
       "      <td>17</td>\n",
       "    </tr>\n",
       "    <tr>\n",
       "      <th>3</th>\n",
       "      <td>40</td>\n",
       "      <td>11</td>\n",
       "      <td>8</td>\n",
       "    </tr>\n",
       "    <tr>\n",
       "      <th>4</th>\n",
       "      <td>70</td>\n",
       "      <td>5</td>\n",
       "      <td>0</td>\n",
       "    </tr>\n",
       "    <tr>\n",
       "      <th>5</th>\n",
       "      <td>100</td>\n",
       "      <td>0</td>\n",
       "      <td>0</td>\n",
       "    </tr>\n",
       "    <tr>\n",
       "      <th>6</th>\n",
       "      <td>100</td>\n",
       "      <td>0</td>\n",
       "      <td>0</td>\n",
       "    </tr>\n",
       "  </tbody>\n",
       "</table>\n",
       "</div>"
      ],
      "text/plain": [
       "     c   t   s\n",
       "1   13  32  25\n",
       "2   20  21  17\n",
       "3   40  11   8\n",
       "4   70   5   0\n",
       "5  100   0   0\n",
       "6  100   0   0"
      ]
     },
     "execution_count": 3,
     "metadata": {},
     "output_type": "execute_result"
    }
   ],
   "source": [
    "df = pd.read_csv(\"ER.csv\", header=0, dtype=int)\n",
    "df.index = (df.index + 1)\n",
    "df\n"
   ]
  },
  {
   "cell_type": "code",
   "execution_count": 4,
   "metadata": {},
   "outputs": [],
   "source": [
    "sizeN = len(df.index)\n",
    "df.loc[sizeN + 1] = [0, 0, 0]\n",
    "sMat = pd.DataFrame(index=range(sizeN, yearY, -1), columns=range(1, sizeN + 2))\n",
    "mMat = pd.DataFrame(index=range(sizeN - 1, yearY, -1), columns=range(1, sizeN + 1))\n",
    "pMat = pd.DataFrame(index=range(sizeN - 1, yearY, -1), columns=range(1, sizeN + 1))\n"
   ]
  },
  {
   "cell_type": "code",
   "execution_count": 5,
   "metadata": {},
   "outputs": [],
   "source": [
    "for i in range(1, sizeN + 2):\n",
    "    if i != sizeN:\n",
    "        sMat[i][sizeN] = -df[\"s\"][i]\n"
   ]
  },
  {
   "cell_type": "code",
   "execution_count": 6,
   "metadata": {},
   "outputs": [],
   "source": [
    "for i in range(sizeN - 1, yearY, -1):\n",
    "    for j in range(1, sizeN + 1):\n",
    "        if i != j and j < i + 2:\n",
    "            mMat[j][i] = [pn - df[\"t\"][j] + c0 + sMat[1][i + 1], df[\"c\"][j] + sMat[j + 1][i + 1]]\n",
    "            sMat[j][i] = min(mMat[j][i])\n",
    "            pMat[j][i] = mMat[j][i].index(sMat[j][i])\n"
   ]
  },
  {
   "cell_type": "markdown",
   "metadata": {},
   "source": [
    "### Boundary Condition\n"
   ]
  },
  {
   "cell_type": "code",
   "execution_count": 7,
   "metadata": {},
   "outputs": [
    {
     "name": "stdout",
     "output_type": "stream",
     "text": [
      "S(1,6) = -25\n",
      "S(2,6) = -17\n",
      "S(3,6) = -8\n",
      "S(4,6) = 0\n",
      "S(5,6) = 0\n",
      "S(7,6) = 0\n"
     ]
    }
   ],
   "source": [
    "for i in range(len(sMat.columns)):\n",
    "    if pd.notna(sMat[i + 1][sizeN]):\n",
    "        print(f'S({i +1},{sizeN}) = {sMat[i +1][sizeN]}')\n"
   ]
  },
  {
   "cell_type": "markdown",
   "metadata": {},
   "source": [
    "### Recurrence relations\n"
   ]
  },
  {
   "cell_type": "code",
   "execution_count": 8,
   "metadata": {},
   "outputs": [
    {
     "name": "stdout",
     "output_type": "stream",
     "text": [
      "Determine S(x,5)\n",
      "S(1,5) = min[3, -4] = -4, P(1,5) = Keep\n",
      "S(2,5) = min[14, 12] = 12, P(2,5) = Keep\n",
      "S(3,5) = min[24, 40] = 24, P(3,5) = Buy\n",
      "S(4,5) = min[30, 70] = 30, P(4,5) = Buy\n",
      "S(6,5) = min[35, 100] = 35, P(6,5) = Buy\n",
      "Determine S(x,4)\n",
      "S(1,4) = min[24, 25] = 24, P(1,4) = Buy\n",
      "S(2,4) = min[35, 44] = 35, P(2,4) = Buy\n",
      "S(3,4) = min[45, 70] = 45, P(3,4) = Buy\n",
      "S(5,4) = min[56, 135] = 56, P(5,4) = Buy\n",
      "Determine S(x,3)\n",
      "S(1,3) = min[52, 48] = 48, P(1,3) = Keep\n",
      "S(2,3) = min[63, 65] = 63, P(2,3) = Buy\n",
      "S(4,3) = min[79, 126] = 79, P(4,3) = Buy\n"
     ]
    }
   ],
   "source": [
    "for i in list(mMat.index):\n",
    "    print(f'Determine S(x,{i})')\n",
    "    for j in range(len(mMat.columns)):\n",
    "        if pd.notna(sMat[j + 1][i]):\n",
    "            print(f'S({j +1},{i}) = min{mMat[j +1][i]} = {sMat[j +1][i]}, P({j +1},{i}) = {\"Keep\" if pMat[j +1][i] else \"Buy\"}')\n"
   ]
  }
 ],
 "metadata": {
  "kernelspec": {
   "display_name": "Python 3.10.6 ('2001')",
   "language": "python",
   "name": "python3"
  },
  "language_info": {
   "codemirror_mode": {
    "name": "ipython",
    "version": 3
   },
   "file_extension": ".py",
   "mimetype": "text/x-python",
   "name": "python",
   "nbconvert_exporter": "python",
   "pygments_lexer": "ipython3",
   "version": "3.10.6"
  },
  "orig_nbformat": 4,
  "vscode": {
   "interpreter": {
    "hash": "98ca2e07560d35728ccdebd1543520761a78888f7ef0f79ced70cde6f7b9b0d4"
   }
  }
 },
 "nbformat": 4,
 "nbformat_minor": 2
}
