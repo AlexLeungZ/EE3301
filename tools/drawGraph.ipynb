{
 "cells": [
  {
   "cell_type": "code",
   "execution_count": null,
   "metadata": {},
   "outputs": [],
   "source": [
    "import networkx as nx\n"
   ]
  },
  {
   "cell_type": "markdown",
   "metadata": {},
   "source": [
    "### Draw graph"
   ]
  },
  {
   "cell_type": "markdown",
   "metadata": {},
   "source": [
    "If you need a graph, copy the follow code to the calculator.\n",
    "- With G as the graph, and label string as the weight label."
   ]
  },
  {
   "cell_type": "code",
   "execution_count": null,
   "metadata": {},
   "outputs": [],
   "source": [
    "# graph = G\n",
    "# label_str = \"capacity\"\n",
    "\n",
    "# pos = nx.planar_layout(graph)\n",
    "# edge_labels = nx.get_edge_attributes(graph, label_str)\n",
    "\n",
    "# nx.draw(graph, pos, with_labels=True)\n",
    "# nx.draw_networkx_edge_labels(graph, pos, edge_labels)\n",
    "# print()\n"
   ]
  }
 ],
 "metadata": {
  "kernelspec": {
   "display_name": "Python 3.10.6 ('2001')",
   "language": "python",
   "name": "python3"
  },
  "language_info": {
   "name": "python",
   "version": "3.10.6"
  },
  "orig_nbformat": 4,
  "vscode": {
   "interpreter": {
    "hash": "98ca2e07560d35728ccdebd1543520761a78888f7ef0f79ced70cde6f7b9b0d4"
   }
  }
 },
 "nbformat": 4,
 "nbformat_minor": 2
}
