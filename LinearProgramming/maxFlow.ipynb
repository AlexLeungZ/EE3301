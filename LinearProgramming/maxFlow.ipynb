{
 "cells": [
  {
   "cell_type": "markdown",
   "metadata": {},
   "source": [
    "### Library\n"
   ]
  },
  {
   "cell_type": "code",
   "execution_count": 1,
   "metadata": {},
   "outputs": [],
   "source": [
    "import networkx as nx\n",
    "import pandas as pd\n"
   ]
  },
  {
   "cell_type": "markdown",
   "metadata": {},
   "source": [
    "### Read Data and create graph\n"
   ]
  },
  {
   "cell_type": "code",
   "execution_count": 2,
   "metadata": {},
   "outputs": [],
   "source": [
    "source = 0\n",
    "sink = 7\n"
   ]
  },
  {
   "cell_type": "code",
   "execution_count": 3,
   "metadata": {},
   "outputs": [],
   "source": [
    "df = pd.read_csv('maxFlow.csv', header=None)\n",
    "df.columns = [\"source\", \"target\", \"capacity\"]\n",
    "\n",
    "G = nx.from_pandas_edgelist(df, edge_attr=True, create_using=nx.DiGraph())\n",
    "flow_value, flow_dict = nx.maximum_flow(G, source, sink)\n"
   ]
  },
  {
   "cell_type": "markdown",
   "metadata": {},
   "source": [
    "### Optimal Solution\n"
   ]
  },
  {
   "cell_type": "code",
   "execution_count": 4,
   "metadata": {},
   "outputs": [
    {
     "name": "stdout",
     "output_type": "stream",
     "text": [
      "Max Flow is 6\n"
     ]
    }
   ],
   "source": [
    "print(f'Max Flow is {flow_value}')\n"
   ]
  },
  {
   "cell_type": "code",
   "execution_count": 5,
   "metadata": {},
   "outputs": [
    {
     "name": "stdout",
     "output_type": "stream",
     "text": [
      "X01 = 3\n",
      "X02 = 2\n",
      "X03 = 1\n",
      "X14 = 3\n",
      "X15 = 0\n",
      "X24 = 1\n",
      "X25 = 1\n",
      "X26 = 0\n",
      "X35 = 1\n",
      "X47 = 4\n",
      "X57 = 2\n",
      "X67 = 0\n"
     ]
    }
   ],
   "source": [
    "for flow in flow_dict:\n",
    "    for node in flow_dict[flow]:\n",
    "        print(f'X{flow}{node} = {flow_dict[flow][node]}')\n"
   ]
  },
  {
   "cell_type": "markdown",
   "metadata": {},
   "source": [
    "### Result edge list\n"
   ]
  },
  {
   "cell_type": "code",
   "execution_count": 6,
   "metadata": {},
   "outputs": [
    {
     "name": "stdout",
     "output_type": "stream",
     "text": [
      "0 1 3\n",
      "0 2 2\n",
      "0 3 1\n",
      "1 4 3\n",
      "1 5 0\n",
      "2 4 1\n",
      "2 5 1\n",
      "2 6 0\n",
      "3 5 1\n",
      "4 7 4\n",
      "5 7 2\n",
      "6 7 0\n"
     ]
    }
   ],
   "source": [
    "for flow in flow_dict:\n",
    "    for node in flow_dict[flow]:\n",
    "        print(f'{flow} {node} {flow_dict[flow][node]}')\n"
   ]
  }
 ],
 "metadata": {
  "kernelspec": {
   "display_name": "Python 3.10.4 ('2001')",
   "language": "python",
   "name": "python3"
  },
  "language_info": {
   "codemirror_mode": {
    "name": "ipython",
    "version": 3
   },
   "file_extension": ".py",
   "mimetype": "text/x-python",
   "name": "python",
   "nbconvert_exporter": "python",
   "pygments_lexer": "ipython3",
   "version": "3.10.4"
  },
  "orig_nbformat": 4,
  "vscode": {
   "interpreter": {
    "hash": "98ca2e07560d35728ccdebd1543520761a78888f7ef0f79ced70cde6f7b9b0d4"
   }
  }
 },
 "nbformat": 4,
 "nbformat_minor": 2
}
