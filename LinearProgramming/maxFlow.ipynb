{
 "cells": [
  {
   "cell_type": "markdown",
   "metadata": {},
   "source": [
    "### Library\n"
   ]
  },
  {
   "cell_type": "code",
   "execution_count": 1,
   "metadata": {},
   "outputs": [],
   "source": [
    "import networkx as nx\n",
    "import networkx.algorithms as nxa\n",
    "import pandas as pd\n",
    "from itertools import combinations\n"
   ]
  },
  {
   "cell_type": "markdown",
   "metadata": {},
   "source": [
    "### Read Data and create graph\n"
   ]
  },
  {
   "cell_type": "code",
   "execution_count": 2,
   "metadata": {},
   "outputs": [],
   "source": [
    "source = 1\n",
    "sink = 4\n"
   ]
  },
  {
   "cell_type": "code",
   "execution_count": 3,
   "metadata": {},
   "outputs": [],
   "source": [
    "df = pd.read_csv('maxFlow.csv', header=None)\n",
    "df.columns = [\"source\", \"target\", \"capacity\"]\n",
    "\n",
    "G = nx.from_pandas_edgelist(df, edge_attr=True, create_using=nx.DiGraph())\n",
    "flow_value, flow_dict = nx.maximum_flow(G, source, sink)\n",
    "cut_value, partition = nx.minimum_cut(G, source, sink)\n"
   ]
  },
  {
   "cell_type": "code",
   "execution_count": 4,
   "metadata": {},
   "outputs": [],
   "source": [
    "# pos = nx.planar_layout(G)\n",
    "# edge_labels = nx.get_edge_attributes(G, \"capacity\")\n",
    "\n",
    "# nx.draw(G, pos, with_labels=True)\n",
    "# nx.draw_networkx_edge_labels(G, pos, edge_labels)\n",
    "# print()\n"
   ]
  },
  {
   "cell_type": "markdown",
   "metadata": {},
   "source": [
    "### Original edge list"
   ]
  },
  {
   "cell_type": "code",
   "execution_count": 5,
   "metadata": {},
   "outputs": [
    {
     "name": "stdout",
     "output_type": "stream",
     "text": [
      "1 2 11\n",
      "1 5 10\n",
      "2 5 1\n",
      "2 3 5\n",
      "2 6 6\n",
      "5 6 5\n",
      "3 4 3\n",
      "6 3 4\n",
      "6 4 3\n"
     ]
    }
   ],
   "source": [
    "for edge in G.edges(data=True):\n",
    "    print(f\"{edge[0]} {edge[1]} {edge[2]['capacity']}\")\n"
   ]
  },
  {
   "cell_type": "markdown",
   "metadata": {},
   "source": [
    "### Max Flow\n"
   ]
  },
  {
   "cell_type": "code",
   "execution_count": 6,
   "metadata": {},
   "outputs": [
    {
     "name": "stdout",
     "output_type": "stream",
     "text": [
      "X12 = 3\n",
      "X15 = 3\n",
      "X25 = 0\n",
      "X23 = 3\n",
      "X26 = 0\n",
      "X56 = 3\n",
      "X34 = 3\n",
      "X63 = 0\n",
      "X64 = 3\n"
     ]
    }
   ],
   "source": [
    "for flow in flow_dict:\n",
    "    for node in flow_dict[flow]:\n",
    "        print(f'X{flow}{node} = {flow_dict[flow][node]}')\n"
   ]
  },
  {
   "cell_type": "code",
   "execution_count": 7,
   "metadata": {},
   "outputs": [
    {
     "name": "stdout",
     "output_type": "stream",
     "text": [
      "Max Flow is 6\n"
     ]
    }
   ],
   "source": [
    "print(f'Max Flow is {flow_value}')\n"
   ]
  },
  {
   "cell_type": "markdown",
   "metadata": {},
   "source": [
    "### Result edge list\n"
   ]
  },
  {
   "cell_type": "code",
   "execution_count": 8,
   "metadata": {},
   "outputs": [
    {
     "name": "stdout",
     "output_type": "stream",
     "text": [
      "1 2 3\n",
      "1 5 3\n",
      "2 5 0\n",
      "2 3 3\n",
      "2 6 0\n",
      "5 6 3\n",
      "3 4 3\n",
      "6 3 0\n",
      "6 4 3\n"
     ]
    }
   ],
   "source": [
    "for flow in flow_dict:\n",
    "    for node in flow_dict[flow]:\n",
    "        print(f'{flow} {node} {flow_dict[flow][node]}')\n"
   ]
  },
  {
   "cell_type": "markdown",
   "metadata": {},
   "source": [
    "### Min Cut"
   ]
  },
  {
   "cell_type": "code",
   "execution_count": 9,
   "metadata": {},
   "outputs": [
    {
     "name": "stdout",
     "output_type": "stream",
     "text": [
      "Cut: 1\n",
      "S = {1}\n",
      "T = {2, 3, 4, 5, 6}\n",
      "edges = [(1, 2), (1, 5)]\n",
      "capacity = [11, 10]\n",
      "Total capacity = 21 \n",
      "\n",
      "Cut: 2\n",
      "S = {1, 2}\n",
      "T = {3, 4, 5, 6}\n",
      "edges = [(1, 5), (2, 5), (2, 3), (2, 6)]\n",
      "capacity = [10, 1, 5, 6]\n",
      "Total capacity = 22 \n",
      "\n",
      "Cut: 3\n",
      "S = {1, 5}\n",
      "T = {2, 3, 4, 6}\n",
      "edges = [(1, 2), (5, 6)]\n",
      "capacity = [11, 5]\n",
      "Total capacity = 16 \n",
      "\n",
      "Cut: 4\n",
      "S = {1, 2, 3}\n",
      "T = {4, 5, 6}\n",
      "edges = [(1, 5), (2, 5), (2, 6), (3, 4)]\n",
      "capacity = [10, 1, 6, 3]\n",
      "Total capacity = 20 \n",
      "\n",
      "Cut: 5\n",
      "S = {1, 2, 5}\n",
      "T = {3, 4, 6}\n",
      "edges = [(2, 3), (2, 6), (5, 6)]\n",
      "capacity = [5, 6, 5]\n",
      "Total capacity = 16 \n",
      "\n",
      "Cut: 6\n",
      "S = {1, 5, 6}\n",
      "T = {2, 3, 4}\n",
      "edges = [(1, 2), (6, 3), (6, 4)]\n",
      "capacity = [11, 4, 3]\n",
      "Total capacity = 18 \n",
      "\n",
      "Cut: 7\n",
      "S = {1, 2, 3, 5}\n",
      "T = {4, 6}\n",
      "edges = [(2, 6), (3, 4), (5, 6)]\n",
      "capacity = [6, 3, 5]\n",
      "Total capacity = 14 \n",
      "\n",
      "Cut: 8\n",
      "S = {1, 2, 5, 6}\n",
      "T = {3, 4}\n",
      "edges = [(2, 3), (6, 3), (6, 4)]\n",
      "capacity = [5, 4, 3]\n",
      "Total capacity = 12 \n",
      "\n",
      "Cut: 9\n",
      "S = {1, 2, 3, 5, 6}\n",
      "T = {4}\n",
      "edges = [(3, 4), (6, 4)]\n",
      "capacity = [3, 3]\n",
      "Total capacity = 6 \n",
      "\n"
     ]
    }
   ],
   "source": [
    "midNode = set(G) - {source} - {sink}\n",
    "capList = nx.get_edge_attributes(G, \"capacity\")\n",
    "cutNode = [{source}.union(i) for i in sum([list(combinations(midNode, r)) for r in range(len(G) - 1)], [])]\n",
    "cuCount = 1\n",
    "\n",
    "for nodes in cutNode:\n",
    "    sSet = nodes\n",
    "    tSet = set(G) - nodes\n",
    "\n",
    "    if not nx.is_weakly_connected(G.subgraph(sSet)):\n",
    "        continue    \n",
    "    if not nx.is_weakly_connected(G.subgraph(tSet)):\n",
    "        continue\n",
    "\n",
    "    print(F\"Cut: {cuCount}\")\n",
    "    print(f\"S = {nodes}\")\n",
    "    print(f\"T = {set(G) - nodes}\")\n",
    "    edges = list(nxa.edge_boundary(G, nodes))\n",
    "    weights = [capList[edge] for edge in edges]\n",
    "    cuCount += 1\n",
    "\n",
    "    print(f\"edges = {edges}\")\n",
    "    print(f\"capacity = {weights}\")\n",
    "    print(f\"Total capacity = {sum(weights)} \\n\")\n"
   ]
  },
  {
   "cell_type": "code",
   "execution_count": 10,
   "metadata": {},
   "outputs": [
    {
     "name": "stdout",
     "output_type": "stream",
     "text": [
      "Min Cut is 6, with edge [(3, 4), (6, 4)]\n"
     ]
    }
   ],
   "source": [
    "print(f'Min Cut is {cut_value}, with edge {list(nxa.edge_boundary(G, partition[0]))}')\n"
   ]
  }
 ],
 "metadata": {
  "kernelspec": {
   "display_name": "Python 3.10.4 ('2001')",
   "language": "python",
   "name": "python3"
  },
  "language_info": {
   "codemirror_mode": {
    "name": "ipython",
    "version": 3
   },
   "file_extension": ".py",
   "mimetype": "text/x-python",
   "name": "python",
   "nbconvert_exporter": "python",
   "pygments_lexer": "ipython3",
   "version": "3.10.6"
  },
  "orig_nbformat": 4,
  "vscode": {
   "interpreter": {
    "hash": "98ca2e07560d35728ccdebd1543520761a78888f7ef0f79ced70cde6f7b9b0d4"
   }
  }
 },
 "nbformat": 4,
 "nbformat_minor": 2
}
