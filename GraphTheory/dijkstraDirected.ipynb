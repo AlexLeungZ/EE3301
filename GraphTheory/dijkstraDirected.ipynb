{
 "cells": [
  {
   "cell_type": "markdown",
   "metadata": {},
   "source": [
    "### Library\n"
   ]
  },
  {
   "cell_type": "code",
   "execution_count": 6,
   "metadata": {},
   "outputs": [],
   "source": [
    "from itertools import pairwise\n",
    "import sys\n"
   ]
  },
  {
   "cell_type": "markdown",
   "metadata": {},
   "source": [
    "### Input panel\n"
   ]
  },
  {
   "cell_type": "code",
   "execution_count": 7,
   "metadata": {},
   "outputs": [],
   "source": [
    "input = '2694876301375324'\n",
    "source = 3\n"
   ]
  },
  {
   "cell_type": "markdown",
   "metadata": {},
   "source": [
    "### De-code\n"
   ]
  },
  {
   "cell_type": "code",
   "execution_count": 8,
   "metadata": {},
   "outputs": [
    {
     "name": "stdout",
     "output_type": "stream",
     "text": [
      "0 1 1\n",
      "1 3 2\n",
      "2 4 2\n",
      "2 6 4\n",
      "3 0 3\n",
      "3 2 1\n",
      "3 7 4\n",
      "4 8 4\n",
      "5 3 2\n",
      "6 3 3\n",
      "6 9 3\n",
      "7 5 2\n",
      "7 6 1\n",
      "8 7 1\n",
      "9 4 5\n"
     ]
    }
   ],
   "source": [
    "edges = [i + (abs(i[0] - i[1]),) for i in [tuple(map(int, i)) for i in list(pairwise(input))]]\n",
    "edges.sort()\n",
    "# print(edges)\n",
    "\n",
    "nodes = edges[-1][0]\n",
    "for i in edges:\n",
    "    print(f'{i[0]} {i[1]} {i[2]}')\n"
   ]
  },
  {
   "cell_type": "markdown",
   "metadata": {},
   "source": [
    "### Get graph: https://csacademy.com/app/graph_editor/\n"
   ]
  },
  {
   "cell_type": "markdown",
   "metadata": {},
   "source": [
    "### Dijkstra’s algorithm Directed Graph\n"
   ]
  },
  {
   "cell_type": "code",
   "execution_count": 9,
   "metadata": {},
   "outputs": [
    {
     "name": "stdout",
     "output_type": "stream",
     "text": [
      "Iteration = 1\n",
      "[('inf', 'nil'), ('inf', 'nil'), ('inf', 'nil'), (0, 'nil'), ('inf', 'nil'), ('inf', 'nil'), ('inf', 'nil'), ('inf', 'nil'), ('inf', 'nil'), ('inf', 'nil')]\n",
      "S = [3]\n",
      "Q = [0, 1, 2, 4, 5, 6, 7, 8, 9]\n",
      "Iteration = 2\n",
      "[(3, 3), ('inf', 'nil'), (1, 3), (0, 'nil'), ('inf', 'nil'), ('inf', 'nil'), ('inf', 'nil'), (4, 3), ('inf', 'nil'), ('inf', 'nil')]\n",
      "S = [3, 2]\n",
      "Q = [0, 1, 4, 5, 6, 7, 8, 9]\n",
      "Iteration = 3\n",
      "[(3, 3), ('inf', 'nil'), (1, 3), (0, 'nil'), (3, 2), ('inf', 'nil'), (5, 2), (4, 3), ('inf', 'nil'), ('inf', 'nil')]\n",
      "S = [3, 2, 0]\n",
      "Q = [1, 4, 5, 6, 7, 8, 9]\n",
      "Iteration = 4\n",
      "[(3, 3), (4, 0), (1, 3), (0, 'nil'), (3, 2), ('inf', 'nil'), (5, 2), (4, 3), ('inf', 'nil'), ('inf', 'nil')]\n",
      "S = [3, 2, 0, 4]\n",
      "Q = [1, 5, 6, 7, 8, 9]\n",
      "Iteration = 5\n",
      "[(3, 3), (4, 0), (1, 3), (0, 'nil'), (3, 2), ('inf', 'nil'), (5, 2), (4, 3), (7, 4), ('inf', 'nil')]\n",
      "S = [3, 2, 0, 4, 1]\n",
      "Q = [5, 6, 7, 8, 9]\n",
      "Iteration = 6\n",
      "[(3, 3), (4, 0), (1, 3), (0, 'nil'), (3, 2), ('inf', 'nil'), (5, 2), (4, 3), (7, 4), ('inf', 'nil')]\n",
      "S = [3, 2, 0, 4, 1, 7]\n",
      "Q = [5, 6, 8, 9]\n",
      "Iteration = 7\n",
      "[(3, 3), (4, 0), (1, 3), (0, 'nil'), (3, 2), (6, 7), (5, 2), (4, 3), (7, 4), ('inf', 'nil')]\n",
      "S = [3, 2, 0, 4, 1, 7, 6]\n",
      "Q = [5, 8, 9]\n",
      "Iteration = 8\n",
      "[(3, 3), (4, 0), (1, 3), (0, 'nil'), (3, 2), (6, 7), (5, 2), (4, 3), (7, 4), (8, 6)]\n",
      "S = [3, 2, 0, 4, 1, 7, 6, 5]\n",
      "Q = [8, 9]\n",
      "Iteration = 9\n",
      "[(3, 3), (4, 0), (1, 3), (0, 'nil'), (3, 2), (6, 7), (5, 2), (4, 3), (7, 4), (8, 6)]\n",
      "S = [3, 2, 0, 4, 1, 7, 6, 5, 8]\n",
      "Q = [9]\n",
      "Iteration = 10\n",
      "[(3, 3), (4, 0), (1, 3), (0, 'nil'), (3, 2), (6, 7), (5, 2), (4, 3), (7, 4), (8, 6)]\n",
      "S = [3, 2, 0, 4, 1, 7, 6, 5, 8, 9]\n",
      "Q = []\n"
     ]
    }
   ],
   "source": [
    "class Pair:\n",
    "    def __init__(self, first, second):\n",
    "        self.first = first\n",
    "        self.second = second\n",
    "\n",
    "\n",
    "inf = sys.maxsize\n",
    "\n",
    "\n",
    "class Node:\n",
    "    def __init__(self, vertexNumber):\n",
    "        self.vertexNumber = vertexNumber\n",
    "        self.children = []\n",
    "\n",
    "    def Add_child(self, vNumber, length):\n",
    "        p = Pair(vNumber, length)\n",
    "        self.children.append(p)\n",
    "\n",
    "\n",
    "def dijkstraDist(g, s, path):\n",
    "    dist = [inf for i in range(len(g))]\n",
    "    visited = [False for i in range(len(g))]\n",
    "\n",
    "    for i in range(len(g)):\n",
    "        path[i] = -1\n",
    "    dist[s] = 0\n",
    "    path[s] = -1\n",
    "    current = s\n",
    "    counter = 0\n",
    "\n",
    "    sett = set()\n",
    "\n",
    "    while (True):\n",
    "        counter = counter + 1\n",
    "        printStep(dist, counter)\n",
    "\n",
    "        visited[current] = True\n",
    "        for i in range(len(g[current].children)):\n",
    "            v = g[current].children[i].first\n",
    "            if (visited[v]):\n",
    "                continue\n",
    "\n",
    "            sett.add(v)\n",
    "            alt = dist[current] + g[current].children[i].second\n",
    "\n",
    "            if (alt < dist[v]):\n",
    "                dist[v] = alt\n",
    "                path[v] = current\n",
    "        if current in sett:\n",
    "            sett.remove(current)\n",
    "        if (len(sett) == 0):\n",
    "            break\n",
    "\n",
    "        minDist = inf\n",
    "        index = 0\n",
    "\n",
    "        for a in sett:\n",
    "            if (dist[a] < minDist):\n",
    "                minDist = dist[a]\n",
    "                index = a\n",
    "        current = index\n",
    "    return dist\n",
    "\n",
    "\n",
    "def printStep(dist, counter):\n",
    "    SQarr = sorted(range(len(dist)), key=lambda k: dist[k])\n",
    "    distArr = [\"inf\" if i == inf else i for i in dist]\n",
    "    fromArr = [\"nil\" if i == -1 else i for i in path]\n",
    "\n",
    "    print(f'Iteration = {counter}')\n",
    "    print([(x, y) for x, y in zip(distArr, fromArr)])\n",
    "    print(f'S = {SQarr[:counter]}')\n",
    "    print(f'Q = {sorted(SQarr[counter:])}')\n",
    "\n",
    "\n",
    "def printPath(path, i, s):\n",
    "    if (i != s):\n",
    "        if (path[i] == -1):\n",
    "            print(\"Path not found!!\")\n",
    "            return\n",
    "        printPath(path, path[i], s)\n",
    "        print(str(path[i]) + \" \")\n",
    "\n",
    "\n",
    "# Driver Code\n",
    "if __name__ == '__main__':\n",
    "\n",
    "    v = []\n",
    "    n = nodes + 1\n",
    "    s = source\n",
    "\n",
    "    for i in range(n):\n",
    "        a = Node(i)\n",
    "        v.append(a)\n",
    "\n",
    "    for i in edges:\n",
    "        v[i[0]].Add_child(i[1], i[2])\n",
    "\n",
    "    path = [0 for i in range(len(v))]\n",
    "    dist = dijkstraDist(v, s, path)\n"
   ]
  },
  {
   "cell_type": "markdown",
   "metadata": {},
   "source": [
    "### Back-tracking\n"
   ]
  },
  {
   "cell_type": "code",
   "execution_count": 10,
   "metadata": {},
   "outputs": [
    {
     "name": "stdout",
     "output_type": "stream",
     "text": [
      "3 \n",
      "0\n",
      "\n",
      "3 \n",
      "0 \n",
      "1\n",
      "\n",
      "3 \n",
      "2\n",
      "\n",
      "3\n",
      "\n",
      "3 \n",
      "2 \n",
      "4\n",
      "\n",
      "3 \n",
      "7 \n",
      "5\n",
      "\n",
      "3 \n",
      "2 \n",
      "6\n",
      "\n",
      "3 \n",
      "7\n",
      "\n",
      "3 \n",
      "2 \n",
      "4 \n",
      "8\n",
      "\n",
      "3 \n",
      "2 \n",
      "6 \n",
      "9\n",
      "\n"
     ]
    }
   ],
   "source": [
    "for i in range(nodes + 1):\n",
    "    printPath(path, i, s)\n",
    "    print(str(i) + \"\\n\")\n"
   ]
  }
 ],
 "metadata": {
  "kernelspec": {
   "display_name": "Python 3.10.4 ('2001')",
   "language": "python",
   "name": "python3"
  },
  "language_info": {
   "codemirror_mode": {
    "name": "ipython",
    "version": 3
   },
   "file_extension": ".py",
   "mimetype": "text/x-python",
   "name": "python",
   "nbconvert_exporter": "python",
   "pygments_lexer": "ipython3",
   "version": "3.10.4"
  },
  "orig_nbformat": 4,
  "vscode": {
   "interpreter": {
    "hash": "98ca2e07560d35728ccdebd1543520761a78888f7ef0f79ced70cde6f7b9b0d4"
   }
  }
 },
 "nbformat": 4,
 "nbformat_minor": 2
}
