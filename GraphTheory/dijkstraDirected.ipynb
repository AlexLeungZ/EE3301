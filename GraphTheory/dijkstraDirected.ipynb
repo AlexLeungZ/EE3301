{
 "cells": [
  {
   "cell_type": "markdown",
   "metadata": {},
   "source": [
    "### Library  "
   ]
  },
  {
   "cell_type": "code",
   "execution_count": 6,
   "metadata": {},
   "outputs": [],
   "source": [
    "from itertools import pairwise"
   ]
  },
  {
   "cell_type": "markdown",
   "metadata": {},
   "source": [
    "### Input panel"
   ]
  },
  {
   "cell_type": "code",
   "execution_count": 7,
   "metadata": {},
   "outputs": [],
   "source": [
    "input = '2694876301375324'\n",
    "source = 3"
   ]
  },
  {
   "cell_type": "markdown",
   "metadata": {},
   "source": [
    "### De-code"
   ]
  },
  {
   "cell_type": "code",
   "execution_count": 8,
   "metadata": {},
   "outputs": [
    {
     "name": "stdout",
     "output_type": "stream",
     "text": [
      "0 1 1\n",
      "1 3 2\n",
      "2 4 2\n",
      "2 6 4\n",
      "3 0 3\n",
      "3 2 1\n",
      "3 7 4\n",
      "4 8 4\n",
      "5 3 2\n",
      "6 3 3\n",
      "6 9 3\n",
      "7 5 2\n",
      "7 6 1\n",
      "8 7 1\n",
      "9 4 5\n"
     ]
    }
   ],
   "source": [
    "edges = [i + (abs(i[0] - i[1]),) for i in [tuple(map(int, i)) for i in list(pairwise(input))]]\n",
    "edges.sort()\n",
    "# print(edges)\n",
    "\n",
    "nodes = edges[-1][0]\n",
    "for i in edges:\n",
    "    print(f'{i[0]} {i[1]} {i[2]}')"
   ]
  },
  {
   "cell_type": "markdown",
   "metadata": {},
   "source": [
    "### Get graph: https://csacademy.com/app/graph_editor/"
   ]
  },
  {
   "cell_type": "markdown",
   "metadata": {},
   "source": [
    "### Dijkstra’s algorithm Directed Graph"
   ]
  },
  {
   "cell_type": "code",
   "execution_count": 9,
   "metadata": {},
   "outputs": [
    {
     "name": "stdout",
     "output_type": "stream",
     "text": [
      "Iteration = 1\n",
      "[('inf', 'nil'), ('inf', 'nil'), ('inf', 'nil'), (0, 'nil'), ('inf', 'nil'), ('inf', 'nil'), ('inf', 'nil'), ('inf', 'nil'), ('inf', 'nil'), ('inf', 'nil')]\n",
      "S = [3]\n",
      "Q = [0, 1, 2, 4, 5, 6, 7, 8, 9]\n",
      "Iteration = 2\n",
      "[(3, 3), ('inf', 'nil'), (1, 3), (0, 'nil'), ('inf', 'nil'), ('inf', 'nil'), ('inf', 'nil'), (4, 3), ('inf', 'nil'), ('inf', 'nil')]\n",
      "S = [3, 2]\n",
      "Q = [0, 1, 4, 5, 6, 7, 8, 9]\n",
      "Iteration = 3\n",
      "[(3, 3), ('inf', 'nil'), (1, 3), (0, 'nil'), (3, 2), ('inf', 'nil'), (5, 2), (4, 3), ('inf', 'nil'), ('inf', 'nil')]\n",
      "S = [3, 2, 0]\n",
      "Q = [1, 4, 5, 6, 7, 8, 9]\n",
      "Iteration = 4\n",
      "[(3, 3), (4, 0), (1, 3), (0, 'nil'), (3, 2), ('inf', 'nil'), (5, 2), (4, 3), ('inf', 'nil'), ('inf', 'nil')]\n",
      "S = [3, 2, 0, 4]\n",
      "Q = [1, 5, 6, 7, 8, 9]\n",
      "Iteration = 5\n",
      "[(3, 3), (4, 0), (1, 3), (0, 'nil'), (3, 2), ('inf', 'nil'), (5, 2), (4, 3), (7, 4), ('inf', 'nil')]\n",
      "S = [3, 2, 0, 4, 1]\n",
      "Q = [5, 6, 7, 8, 9]\n",
      "Iteration = 6\n",
      "[(3, 3), (4, 0), (1, 3), (0, 'nil'), (3, 2), ('inf', 'nil'), (5, 2), (4, 3), (7, 4), ('inf', 'nil')]\n",
      "S = [3, 2, 0, 4, 1, 7]\n",
      "Q = [5, 6, 8, 9]\n",
      "Iteration = 7\n",
      "[(3, 3), (4, 0), (1, 3), (0, 'nil'), (3, 2), (6, 7), (5, 2), (4, 3), (7, 4), ('inf', 'nil')]\n",
      "S = [3, 2, 0, 4, 1, 7, 6]\n",
      "Q = [5, 8, 9]\n",
      "Iteration = 8\n",
      "[(3, 3), (4, 0), (1, 3), (0, 'nil'), (3, 2), (6, 7), (5, 2), (4, 3), (7, 4), (8, 6)]\n",
      "S = [3, 2, 0, 4, 1, 7, 6, 5]\n",
      "Q = [8, 9]\n",
      "Iteration = 9\n",
      "[(3, 3), (4, 0), (1, 3), (0, 'nil'), (3, 2), (6, 7), (5, 2), (4, 3), (7, 4), (8, 6)]\n",
      "S = [3, 2, 0, 4, 1, 7, 6, 5, 8]\n",
      "Q = [9]\n",
      "Iteration = 10\n",
      "[(3, 3), (4, 0), (1, 3), (0, 'nil'), (3, 2), (6, 7), (5, 2), (4, 3), (7, 4), (8, 6)]\n",
      "S = [3, 2, 0, 4, 1, 7, 6, 5, 8, 9]\n",
      "Q = []\n"
     ]
    }
   ],
   "source": [
    "class Pair:\n",
    "\tdef __init__(self, first, second):\n",
    "\t\tself.first = first\n",
    "\t\tself.second = second\n",
    "inf = 1000000000\n",
    "\n",
    "class Node:\n",
    "\tdef __init__(self, vertexNumber):\t\n",
    "\t\tself.vertexNumber = vertexNumber\n",
    "\t\tself.children = []\n",
    "\n",
    "\tdef Add_child(self, vNumber, length):\n",
    "\t\tp = Pair(vNumber, length)\n",
    "\t\tself.children.append(p)\n",
    "\t\n",
    "def dijkstraDist(g, s, path):\n",
    "\tdist = [inf for i in range(len(g))]\n",
    "\tvisited = [False for i in range(len(g))]\n",
    "\t\n",
    "\tfor i in range(len(g)):\t\n",
    "\t\tpath[i] = -1\n",
    "\tdist[s] = 0\n",
    "\tpath[s] = -1\n",
    "\tcurrent = s\n",
    "\tcounter = 0\n",
    "\n",
    "\tsett = set()\n",
    "\n",
    "\twhile (True):\n",
    "\t\tcounter = counter + 1\n",
    "\t\tprintStep(dist, counter)\n",
    "\n",
    "\t\tvisited[current] = True\n",
    "\t\tfor i in range(len(g[current].children)):\n",
    "\t\t\tv = g[current].children[i].first\t\n",
    "\t\t\tif (visited[v]):\n",
    "\t\t\t\tcontinue\n",
    "\n",
    "\t\t\tsett.add(v)\n",
    "\t\t\talt = dist[current] + g[current].children[i].second\n",
    "\n",
    "\t\t\tif (alt < dist[v]):\t\n",
    "\t\t\t\tdist[v] = alt\n",
    "\t\t\t\tpath[v] = current;\t\n",
    "\t\tif current in sett:\t\t\n",
    "\t\t\tsett.remove(current);\t\n",
    "\t\tif (len(sett) == 0):\n",
    "\t\t\tbreak\n",
    "\n",
    "\t\tminDist = inf\n",
    "\t\tindex = 0\n",
    "\n",
    "\t\tfor a in sett:\t\n",
    "\t\t\tif (dist[a] < minDist):\t\n",
    "\t\t\t\tminDist = dist[a]\n",
    "\t\t\t\tindex = a\t\n",
    "\t\tcurrent = index\n",
    "\treturn dist\n",
    "\n",
    "def printStep(dist, counter):\n",
    "\tSQarr = sorted(range(len(dist)), key = lambda k: dist[k])\n",
    "\tdistArr = [\"inf\" if i == inf else i for i in dist]\n",
    "\tfromArr = [\"nil\" if i == -1 else i for i in path]\n",
    "\n",
    "\tprint(f'Iteration = {counter}')\n",
    "\tprint([(x, y) for x, y in zip(distArr, fromArr)])\n",
    "\tprint(f'S = {SQarr[:counter]}')\n",
    "\tprint(f'Q = {sorted(SQarr[counter:])}')\n",
    "\n",
    "def printPath(path, i, s):\n",
    "    if (i != s):\n",
    "        if (path[i] == -1):       \n",
    "            print(\"Path not found!!\")\n",
    "            return;       \n",
    "        printPath(path, path[i], s)\n",
    "        print(str(path[i]) + \" \")\n",
    "\t\n",
    "# Driver Code\n",
    "if __name__=='__main__':\n",
    "\t\n",
    "\tv = []\n",
    "\tn = nodes + 1\n",
    "\ts = source\n",
    "\n",
    "\tfor i in range(n):\n",
    "\t\ta = Node(i)\n",
    "\t\tv.append(a)\n",
    "\n",
    "\tfor i in edges:\n",
    "\t\tv[i[0]].Add_child(i[1], i[2])\n",
    "\n",
    "\tpath = [0 for i in range(len(v))]\n",
    "\tdist = dijkstraDist(v, s, path)"
   ]
  },
  {
   "cell_type": "markdown",
   "metadata": {},
   "source": [
    "### Back-tracking"
   ]
  },
  {
   "cell_type": "code",
   "execution_count": 10,
   "metadata": {},
   "outputs": [
    {
     "name": "stdout",
     "output_type": "stream",
     "text": [
      "3 \n",
      "0\n",
      "\n",
      "3 \n",
      "0 \n",
      "1\n",
      "\n",
      "3 \n",
      "2\n",
      "\n",
      "3\n",
      "\n",
      "3 \n",
      "2 \n",
      "4\n",
      "\n",
      "3 \n",
      "7 \n",
      "5\n",
      "\n",
      "3 \n",
      "2 \n",
      "6\n",
      "\n",
      "3 \n",
      "7\n",
      "\n",
      "3 \n",
      "2 \n",
      "4 \n",
      "8\n",
      "\n",
      "3 \n",
      "2 \n",
      "6 \n",
      "9\n",
      "\n"
     ]
    }
   ],
   "source": [
    "for i in range(nodes + 1):\n",
    "    printPath(path, i, s)\n",
    "    print(str(i) + \"\\n\")"
   ]
  }
 ],
 "metadata": {
  "kernelspec": {
   "display_name": "Python 3.10.4 ('2001')",
   "language": "python",
   "name": "python3"
  },
  "language_info": {
   "codemirror_mode": {
    "name": "ipython",
    "version": 3
   },
   "file_extension": ".py",
   "mimetype": "text/x-python",
   "name": "python",
   "nbconvert_exporter": "python",
   "pygments_lexer": "ipython3",
   "version": "3.10.4"
  },
  "orig_nbformat": 4,
  "vscode": {
   "interpreter": {
    "hash": "55eb91d003843ee0eabb6af411dc999514f7578b560f97084ebc6a83d429fc16"
   }
  }
 },
 "nbformat": 4,
 "nbformat_minor": 2
}
