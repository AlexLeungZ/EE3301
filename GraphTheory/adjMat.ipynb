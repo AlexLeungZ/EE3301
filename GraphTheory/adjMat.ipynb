{
 "cells": [
  {
   "cell_type": "markdown",
   "metadata": {},
   "source": [
    "### Library"
   ]
  },
  {
   "cell_type": "code",
   "execution_count": 1,
   "metadata": {},
   "outputs": [],
   "source": [
    "import string\n",
    "import networkx as nx\n",
    "import numpy as np\n",
    "import pandas as pd"
   ]
  },
  {
   "cell_type": "markdown",
   "metadata": {},
   "source": [
    "### Adj Matrix"
   ]
  },
  {
   "cell_type": "code",
   "execution_count": 2,
   "metadata": {},
   "outputs": [
    {
     "name": "stdout",
     "output_type": "stream",
     "text": [
      "   A  B  C  D  E  F\n",
      "A  0  2  0  0  0  0\n",
      "B  0  0  1  0  0  0\n",
      "C  0  0  0  0  8  0\n",
      "D  0  1  0  0  1  0\n",
      "E  0  0  0  0  0  1\n",
      "F  3  5  3  1  1  0\n"
     ]
    }
   ],
   "source": [
    "df = pd.read_csv('adjMat.csv', header = None)\n",
    "df.columns = list(string.ascii_uppercase[0:len(df.columns)])\n",
    "df.index = list(string.ascii_uppercase[0:len(df.index)])\n",
    "\n",
    "print(df)"
   ]
  },
  {
   "cell_type": "markdown",
   "metadata": {},
   "source": [
    "### Edge List"
   ]
  },
  {
   "cell_type": "code",
   "execution_count": 3,
   "metadata": {},
   "outputs": [
    {
     "name": "stdout",
     "output_type": "stream",
     "text": [
      "   source target  weight\n",
      "0       A      B       2\n",
      "1       B      C       1\n",
      "2       C      E       8\n",
      "3       D      B       1\n",
      "4       D      E       1\n",
      "5       E      F       1\n",
      "6       F      A       3\n",
      "7       F      B       5\n",
      "8       F      C       3\n",
      "9       F      D       1\n",
      "10      F      E       1\n"
     ]
    }
   ],
   "source": [
    "G = nx.from_pandas_adjacency(df, create_using = nx.MultiDiGraph())\n",
    "G.edges(data = True)\n",
    "edges = nx.to_pandas_edgelist(G)\n",
    "\n",
    "print(edges)"
   ]
  },
  {
   "cell_type": "markdown",
   "metadata": {},
   "source": [
    "### Get graph https://csacademy.com/app/graph_editor/"
   ]
  },
  {
   "cell_type": "code",
   "execution_count": 4,
   "metadata": {},
   "outputs": [
    {
     "name": "stdout",
     "output_type": "stream",
     "text": [
      "A B 2\n",
      "B C 1\n",
      "C E 8\n",
      "D B 1\n",
      "D E 1\n",
      "E F 1\n",
      "F A 3\n",
      "F B 5\n",
      "F C 3\n",
      "F D 1\n",
      "F E 1\n"
     ]
    }
   ],
   "source": [
    "edgeList = list(edges.to_records(index = False))\n",
    "for i in edgeList:\n",
    "    print(f'{i[0]} {i[1]} {i[2]}')"
   ]
  }
 ],
 "metadata": {
  "kernelspec": {
   "display_name": "Python 3.10.4 ('2001')",
   "language": "python",
   "name": "python3"
  },
  "language_info": {
   "codemirror_mode": {
    "name": "ipython",
    "version": 3
   },
   "file_extension": ".py",
   "mimetype": "text/x-python",
   "name": "python",
   "nbconvert_exporter": "python",
   "pygments_lexer": "ipython3",
   "version": "3.10.4"
  },
  "orig_nbformat": 4,
  "vscode": {
   "interpreter": {
    "hash": "55eb91d003843ee0eabb6af411dc999514f7578b560f97084ebc6a83d429fc16"
   }
  }
 },
 "nbformat": 4,
 "nbformat_minor": 2
}
