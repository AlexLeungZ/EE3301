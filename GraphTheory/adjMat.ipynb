{
 "cells": [
  {
   "cell_type": "markdown",
   "metadata": {},
   "source": [
    "### Library\n"
   ]
  },
  {
   "cell_type": "code",
   "execution_count": 1,
   "metadata": {},
   "outputs": [],
   "source": [
    "import string\n",
    "import networkx as nx\n",
    "import pandas as pd\n"
   ]
  },
  {
   "cell_type": "markdown",
   "metadata": {},
   "source": [
    "### Adj Matrix (Directed)\n"
   ]
  },
  {
   "cell_type": "code",
   "execution_count": 2,
   "metadata": {},
   "outputs": [
    {
     "name": "stdout",
     "output_type": "stream",
     "text": [
      "   A  B  C  D  E  F\n",
      "A  0  2  0  0  0  0\n",
      "B  0  0  1  0  0  0\n",
      "C  0  0  0  0  8  0\n",
      "D  0  1  0  0  1  0\n",
      "E  0  0  0  0  0  1\n",
      "F  3  5  3  1  1  0\n"
     ]
    }
   ],
   "source": [
    "df = pd.read_csv('adjMat.csv', header=None)\n",
    "df.columns = list(string.ascii_uppercase[0:len(df.columns)])\n",
    "df.index = list(string.ascii_uppercase[0:len(df.index)])\n",
    "\n",
    "print(df)\n"
   ]
  },
  {
   "cell_type": "markdown",
   "metadata": {},
   "source": [
    "### Edge List\n"
   ]
  },
  {
   "cell_type": "code",
   "execution_count": 3,
   "metadata": {},
   "outputs": [
    {
     "name": "stdout",
     "output_type": "stream",
     "text": [
      "A B 2\n",
      "B C 1\n",
      "C E 8\n",
      "D B 1\n",
      "D E 1\n",
      "E F 1\n",
      "F A 3\n",
      "F B 5\n",
      "F C 3\n",
      "F D 1\n",
      "F E 1\n"
     ]
    }
   ],
   "source": [
    "G = nx.from_pandas_adjacency(df, create_using=nx.MultiDiGraph())\n",
    "for edge in G.edges(data=True):\n",
    "    print(f\"{edge[0]} {edge[1]} {edge[2]['weight']}\")\n"
   ]
  },
  {
   "cell_type": "markdown",
   "metadata": {},
   "source": [
    "### Adj List (Node List)"
   ]
  },
  {
   "cell_type": "code",
   "execution_count": 4,
   "metadata": {},
   "outputs": [
    {
     "name": "stdout",
     "output_type": "stream",
     "text": [
      "A B\n",
      "B C\n",
      "C E\n",
      "D B E\n",
      "E F\n",
      "F A B C D E\n"
     ]
    }
   ],
   "source": [
    "for line in nx.generate_adjlist(G):\n",
    "    print(line)"
   ]
  }
 ],
 "metadata": {
  "kernelspec": {
   "display_name": "Python 3.10.4 ('2001')",
   "language": "python",
   "name": "python3"
  },
  "language_info": {
   "codemirror_mode": {
    "name": "ipython",
    "version": 3
   },
   "file_extension": ".py",
   "mimetype": "text/x-python",
   "name": "python",
   "nbconvert_exporter": "python",
   "pygments_lexer": "ipython3",
   "version": "3.10.6"
  },
  "orig_nbformat": 4,
  "vscode": {
   "interpreter": {
    "hash": "98ca2e07560d35728ccdebd1543520761a78888f7ef0f79ced70cde6f7b9b0d4"
   }
  }
 },
 "nbformat": 4,
 "nbformat_minor": 2
}
