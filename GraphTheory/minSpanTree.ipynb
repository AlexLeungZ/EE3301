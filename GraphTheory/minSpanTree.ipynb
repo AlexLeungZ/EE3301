{
 "cells": [
  {
   "cell_type": "markdown",
   "metadata": {},
   "source": [
    "### Minimum Spanning Tree\n"
   ]
  },
  {
   "cell_type": "markdown",
   "metadata": {},
   "source": [
    "### Library\n"
   ]
  },
  {
   "cell_type": "code",
   "execution_count": 1,
   "metadata": {},
   "outputs": [],
   "source": [
    "from itertools import pairwise\n",
    "import sys\n",
    "import networkx as nx\n"
   ]
  },
  {
   "cell_type": "markdown",
   "metadata": {},
   "source": [
    "### Input panel\n"
   ]
  },
  {
   "cell_type": "code",
   "execution_count": 2,
   "metadata": {},
   "outputs": [],
   "source": [
    "input = '40162342546'\n"
   ]
  },
  {
   "cell_type": "markdown",
   "metadata": {},
   "source": [
    "### De-code\n"
   ]
  },
  {
   "cell_type": "code",
   "execution_count": 3,
   "metadata": {},
   "outputs": [],
   "source": [
    "edges = [i + (abs(i[0] - i[1]),) for i in [tuple(map(int, i)) for i in list(pairwise(input))]]\n",
    "edges.sort()\n"
   ]
  },
  {
   "cell_type": "code",
   "execution_count": 4,
   "metadata": {},
   "outputs": [],
   "source": [
    "graph = nx.Graph()\n",
    "\n",
    "for i in edges:\n",
    "    graph.add_edge(i[0], i[1], weight=i[2])\n"
   ]
  },
  {
   "cell_type": "markdown",
   "metadata": {},
   "source": [
    "### Original edge list"
   ]
  },
  {
   "cell_type": "code",
   "execution_count": 5,
   "metadata": {},
   "outputs": [
    {
     "name": "stdout",
     "output_type": "stream",
     "text": [
      "0 1 1\n",
      "0 4 4\n",
      "1 6 5\n",
      "6 4 2\n",
      "6 2 4\n",
      "2 3 1\n",
      "2 5 3\n",
      "2 4 2\n",
      "3 4 1\n",
      "5 4 1\n"
     ]
    }
   ],
   "source": [
    "for edge in graph.edges(data=True):\n",
    "    print(f\"{edge[0]} {edge[1]} {edge[2]['weight']}\")\n"
   ]
  },
  {
   "cell_type": "markdown",
   "metadata": {},
   "source": [
    "### Prim's Algorithm\n"
   ]
  },
  {
   "cell_type": "code",
   "execution_count": 6,
   "metadata": {},
   "outputs": [],
   "source": [
    "T = nx.minimum_spanning_tree(graph, algorithm=\"prim\")\n",
    "primList = sorted(T.edges(data=True), key=lambda x: x[-1][\"weight\"])\n",
    "nodeSet = {0}\n",
    "resList = []\n",
    "\n",
    "while primList:\n",
    "    for index, edge in enumerate(primList):\n",
    "        if any(item in nodeSet for item in [edge[0], edge[1]]):\n",
    "            nodeSet.add(edge[0])\n",
    "            nodeSet.add(edge[1])\n",
    "            resList.append(primList.pop(index))\n",
    "            break\n"
   ]
  },
  {
   "cell_type": "markdown",
   "metadata": {},
   "source": [
    "### MST edge by prim's order\n"
   ]
  },
  {
   "cell_type": "code",
   "execution_count": 7,
   "metadata": {},
   "outputs": [
    {
     "data": {
      "text/plain": [
       "[(0, 1, {'weight': 1}),\n",
       " (0, 4, {'weight': 4}),\n",
       " (3, 4, {'weight': 1}),\n",
       " (2, 3, {'weight': 1}),\n",
       " (5, 4, {'weight': 1}),\n",
       " (6, 4, {'weight': 2})]"
      ]
     },
     "execution_count": 7,
     "metadata": {},
     "output_type": "execute_result"
    }
   ],
   "source": [
    "resList\n"
   ]
  },
  {
   "cell_type": "code",
   "execution_count": 8,
   "metadata": {},
   "outputs": [
    {
     "name": "stdout",
     "output_type": "stream",
     "text": [
      "Iteration: 0\n",
      "0 1 1 \n",
      "Iteration: 1\n",
      "0 1 1 \n",
      "0 4 4 \n",
      "Iteration: 2\n",
      "0 1 1 \n",
      "0 4 4 \n",
      "3 4 1 \n",
      "Iteration: 3\n",
      "0 1 1 \n",
      "0 4 4 \n",
      "3 4 1 \n",
      "2 3 1 \n",
      "Iteration: 4\n",
      "0 1 1 \n",
      "0 4 4 \n",
      "3 4 1 \n",
      "2 3 1 \n",
      "5 4 1 \n",
      "Iteration: 5\n",
      "0 1 1 \n",
      "0 4 4 \n",
      "3 4 1 \n",
      "2 3 1 \n",
      "5 4 1 \n",
      "6 4 2 \n"
     ]
    }
   ],
   "source": [
    "for index in range(len(resList)):\n",
    "    print(f'Iteration: {index}')\n",
    "    for edge in resList[:index + 1]:\n",
    "        print(f'{edge[0]} {edge[1]} {edge[-1][\"weight\"]} ')\n"
   ]
  },
  {
   "cell_type": "markdown",
   "metadata": {},
   "source": [
    "### MST total weight\n"
   ]
  },
  {
   "cell_type": "code",
   "execution_count": 9,
   "metadata": {},
   "outputs": [
    {
     "name": "stdout",
     "output_type": "stream",
     "text": [
      "Total weight: 10\n"
     ]
    }
   ],
   "source": [
    "weight = sum([edge[-1][\"weight\"] for edge in resList])\n",
    "print(f'Total weight: {weight}')\n"
   ]
  }
 ],
 "metadata": {
  "kernelspec": {
   "display_name": "Python 3.10.4 ('2001')",
   "language": "python",
   "name": "python3"
  },
  "language_info": {
   "codemirror_mode": {
    "name": "ipython",
    "version": 3
   },
   "file_extension": ".py",
   "mimetype": "text/x-python",
   "name": "python",
   "nbconvert_exporter": "python",
   "pygments_lexer": "ipython3",
   "version": "3.10.6"
  },
  "orig_nbformat": 4,
  "vscode": {
   "interpreter": {
    "hash": "98ca2e07560d35728ccdebd1543520761a78888f7ef0f79ced70cde6f7b9b0d4"
   }
  }
 },
 "nbformat": 4,
 "nbformat_minor": 2
}
