{
 "cells": [
  {
   "cell_type": "markdown",
   "metadata": {},
   "source": [
    "### Minimum Spanning Tree\n"
   ]
  },
  {
   "cell_type": "markdown",
   "metadata": {},
   "source": [
    "### Library\n"
   ]
  },
  {
   "cell_type": "code",
   "execution_count": 7,
   "metadata": {},
   "outputs": [],
   "source": [
    "from itertools import pairwise\n",
    "import sys\n",
    "import networkx as nx"
   ]
  },
  {
   "cell_type": "markdown",
   "metadata": {},
   "source": [
    "### Input panel\n"
   ]
  },
  {
   "cell_type": "code",
   "execution_count": 8,
   "metadata": {},
   "outputs": [],
   "source": [
    "input = '2694876301375324'"
   ]
  },
  {
   "cell_type": "markdown",
   "metadata": {},
   "source": [
    "### De-code\n"
   ]
  },
  {
   "cell_type": "code",
   "execution_count": 9,
   "metadata": {},
   "outputs": [],
   "source": [
    "edges = [i + (abs(i[0] - i[1]),) for i in [tuple(map(int, i)) for i in list(pairwise(input))]]\n",
    "edges.sort()\n",
    "nodes = edges[-1][0]"
   ]
  },
  {
   "cell_type": "markdown",
   "metadata": {},
   "source": [
    "### Kruskal's Algorithm"
   ]
  },
  {
   "cell_type": "code",
   "execution_count": 10,
   "metadata": {},
   "outputs": [
    {
     "data": {
      "text/plain": [
       "[(0, 1, {'weight': 1}),\n",
       " (1, 3, {'weight': 2}),\n",
       " (2, 4, {'weight': 2}),\n",
       " (3, 2, {'weight': 1}),\n",
       " (3, 5, {'weight': 2}),\n",
       " (6, 7, {'weight': 1}),\n",
       " (6, 9, {'weight': 3}),\n",
       " (7, 5, {'weight': 2}),\n",
       " (7, 8, {'weight': 1})]"
      ]
     },
     "execution_count": 10,
     "metadata": {},
     "output_type": "execute_result"
    }
   ],
   "source": [
    "graph = nx.Graph()\n",
    "\n",
    "for i in edges:\n",
    "    graph.add_edge(i[0], i[1], weight = i[2])\n",
    "\n",
    "T = nx.minimum_spanning_tree(graph)\n",
    "sorted(T.edges(data=True))"
   ]
  },
  {
   "cell_type": "markdown",
   "metadata": {},
   "source": [
    "### Adj Matrix"
   ]
  },
  {
   "cell_type": "code",
   "execution_count": 11,
   "metadata": {},
   "outputs": [
    {
     "data": {
      "text/html": [
       "<div>\n",
       "<style scoped>\n",
       "    .dataframe tbody tr th:only-of-type {\n",
       "        vertical-align: middle;\n",
       "    }\n",
       "\n",
       "    .dataframe tbody tr th {\n",
       "        vertical-align: top;\n",
       "    }\n",
       "\n",
       "    .dataframe thead th {\n",
       "        text-align: right;\n",
       "    }\n",
       "</style>\n",
       "<table border=\"1\" class=\"dataframe\">\n",
       "  <thead>\n",
       "    <tr style=\"text-align: right;\">\n",
       "      <th></th>\n",
       "      <th>0</th>\n",
       "      <th>1</th>\n",
       "      <th>2</th>\n",
       "      <th>3</th>\n",
       "      <th>4</th>\n",
       "      <th>5</th>\n",
       "      <th>6</th>\n",
       "      <th>7</th>\n",
       "      <th>8</th>\n",
       "      <th>9</th>\n",
       "    </tr>\n",
       "  </thead>\n",
       "  <tbody>\n",
       "    <tr>\n",
       "      <th>0</th>\n",
       "      <td>0</td>\n",
       "      <td>1</td>\n",
       "      <td>0</td>\n",
       "      <td>3</td>\n",
       "      <td>0</td>\n",
       "      <td>0</td>\n",
       "      <td>0</td>\n",
       "      <td>0</td>\n",
       "      <td>0</td>\n",
       "      <td>0</td>\n",
       "    </tr>\n",
       "    <tr>\n",
       "      <th>1</th>\n",
       "      <td>1</td>\n",
       "      <td>0</td>\n",
       "      <td>0</td>\n",
       "      <td>2</td>\n",
       "      <td>0</td>\n",
       "      <td>0</td>\n",
       "      <td>0</td>\n",
       "      <td>0</td>\n",
       "      <td>0</td>\n",
       "      <td>0</td>\n",
       "    </tr>\n",
       "    <tr>\n",
       "      <th>2</th>\n",
       "      <td>0</td>\n",
       "      <td>0</td>\n",
       "      <td>0</td>\n",
       "      <td>1</td>\n",
       "      <td>2</td>\n",
       "      <td>0</td>\n",
       "      <td>4</td>\n",
       "      <td>0</td>\n",
       "      <td>0</td>\n",
       "      <td>0</td>\n",
       "    </tr>\n",
       "    <tr>\n",
       "      <th>3</th>\n",
       "      <td>3</td>\n",
       "      <td>2</td>\n",
       "      <td>1</td>\n",
       "      <td>0</td>\n",
       "      <td>0</td>\n",
       "      <td>2</td>\n",
       "      <td>3</td>\n",
       "      <td>4</td>\n",
       "      <td>0</td>\n",
       "      <td>0</td>\n",
       "    </tr>\n",
       "    <tr>\n",
       "      <th>4</th>\n",
       "      <td>0</td>\n",
       "      <td>0</td>\n",
       "      <td>2</td>\n",
       "      <td>0</td>\n",
       "      <td>0</td>\n",
       "      <td>0</td>\n",
       "      <td>0</td>\n",
       "      <td>0</td>\n",
       "      <td>4</td>\n",
       "      <td>5</td>\n",
       "    </tr>\n",
       "    <tr>\n",
       "      <th>5</th>\n",
       "      <td>0</td>\n",
       "      <td>0</td>\n",
       "      <td>0</td>\n",
       "      <td>2</td>\n",
       "      <td>0</td>\n",
       "      <td>0</td>\n",
       "      <td>0</td>\n",
       "      <td>2</td>\n",
       "      <td>0</td>\n",
       "      <td>0</td>\n",
       "    </tr>\n",
       "    <tr>\n",
       "      <th>6</th>\n",
       "      <td>0</td>\n",
       "      <td>0</td>\n",
       "      <td>4</td>\n",
       "      <td>3</td>\n",
       "      <td>0</td>\n",
       "      <td>0</td>\n",
       "      <td>0</td>\n",
       "      <td>1</td>\n",
       "      <td>0</td>\n",
       "      <td>3</td>\n",
       "    </tr>\n",
       "    <tr>\n",
       "      <th>7</th>\n",
       "      <td>0</td>\n",
       "      <td>0</td>\n",
       "      <td>0</td>\n",
       "      <td>4</td>\n",
       "      <td>0</td>\n",
       "      <td>2</td>\n",
       "      <td>1</td>\n",
       "      <td>0</td>\n",
       "      <td>1</td>\n",
       "      <td>0</td>\n",
       "    </tr>\n",
       "    <tr>\n",
       "      <th>8</th>\n",
       "      <td>0</td>\n",
       "      <td>0</td>\n",
       "      <td>0</td>\n",
       "      <td>0</td>\n",
       "      <td>4</td>\n",
       "      <td>0</td>\n",
       "      <td>0</td>\n",
       "      <td>1</td>\n",
       "      <td>0</td>\n",
       "      <td>0</td>\n",
       "    </tr>\n",
       "    <tr>\n",
       "      <th>9</th>\n",
       "      <td>0</td>\n",
       "      <td>0</td>\n",
       "      <td>0</td>\n",
       "      <td>0</td>\n",
       "      <td>5</td>\n",
       "      <td>0</td>\n",
       "      <td>3</td>\n",
       "      <td>0</td>\n",
       "      <td>0</td>\n",
       "      <td>0</td>\n",
       "    </tr>\n",
       "  </tbody>\n",
       "</table>\n",
       "</div>"
      ],
      "text/plain": [
       "   0  1  2  3  4  5  6  7  8  9\n",
       "0  0  1  0  3  0  0  0  0  0  0\n",
       "1  1  0  0  2  0  0  0  0  0  0\n",
       "2  0  0  0  1  2  0  4  0  0  0\n",
       "3  3  2  1  0  0  2  3  4  0  0\n",
       "4  0  0  2  0  0  0  0  0  4  5\n",
       "5  0  0  0  2  0  0  0  2  0  0\n",
       "6  0  0  4  3  0  0  0  1  0  3\n",
       "7  0  0  0  4  0  2  1  0  1  0\n",
       "8  0  0  0  0  4  0  0  1  0  0\n",
       "9  0  0  0  0  5  0  3  0  0  0"
      ]
     },
     "execution_count": 11,
     "metadata": {},
     "output_type": "execute_result"
    }
   ],
   "source": [
    "adjMat = nx.to_pandas_adjacency(graph).astype(int).sort_index().sort_index(axis = 1)\n",
    "adjMat"
   ]
  },
  {
   "cell_type": "markdown",
   "metadata": {},
   "source": [
    "### Prim's Algorithm"
   ]
  },
  {
   "cell_type": "code",
   "execution_count": 12,
   "metadata": {},
   "outputs": [
    {
     "name": "stdout",
     "output_type": "stream",
     "text": [
      "Iteration: 1\n",
      "[0, 1, 'inf', 3, 'inf', 'inf', 'inf', 'inf', 'inf', 'inf']\n",
      "[-1, 0, 'nil', 0, 'nil', 'nil', 'nil', 'nil', 'nil', 'nil']\n",
      "Iteration: 2\n",
      "[0, 1, 'inf', 2, 'inf', 'inf', 'inf', 'inf', 'inf', 'inf']\n",
      "[-1, 0, 'nil', 1, 'nil', 'nil', 'nil', 'nil', 'nil', 'nil']\n",
      "Iteration: 3\n",
      "[0, 1, 1, 2, 'inf', 2, 3, 4, 'inf', 'inf']\n",
      "[-1, 0, 3, 1, 'nil', 3, 3, 3, 'nil', 'nil']\n",
      "Iteration: 4\n",
      "[0, 1, 1, 2, 2, 2, 3, 4, 'inf', 'inf']\n",
      "[-1, 0, 3, 1, 2, 3, 3, 3, 'nil', 'nil']\n",
      "Iteration: 5\n",
      "[0, 1, 1, 2, 2, 2, 3, 4, 4, 5]\n",
      "[-1, 0, 3, 1, 2, 3, 3, 3, 4, 4]\n",
      "Iteration: 6\n",
      "[0, 1, 1, 2, 2, 2, 3, 2, 4, 5]\n",
      "[-1, 0, 3, 1, 2, 3, 3, 5, 4, 4]\n",
      "Iteration: 7\n",
      "[0, 1, 1, 2, 2, 2, 1, 2, 1, 5]\n",
      "[-1, 0, 3, 1, 2, 3, 7, 5, 7, 4]\n",
      "Iteration: 8\n",
      "[0, 1, 1, 2, 2, 2, 1, 2, 1, 3]\n",
      "[-1, 0, 3, 1, 2, 3, 7, 5, 7, 6]\n",
      "Iteration: 9\n",
      "[0, 1, 1, 2, 2, 2, 1, 2, 1, 3]\n",
      "[-1, 0, 3, 1, 2, 3, 7, 5, 7, 6]\n",
      "Iteration: 10\n",
      "[0, 1, 1, 2, 2, 2, 1, 2, 1, 3]\n",
      "[-1, 0, 3, 1, 2, 3, 7, 5, 7, 6]\n",
      "Edge \tWeight\n",
      "(0, 1, 1)\n",
      "(3, 2, 1)\n",
      "(1, 3, 2)\n",
      "(2, 4, 2)\n",
      "(3, 5, 2)\n",
      "(7, 6, 1)\n",
      "(5, 7, 2)\n",
      "(7, 8, 1)\n",
      "(6, 9, 3)\n",
      "Total weight: 15\n"
     ]
    }
   ],
   "source": [
    "class Graph():\n",
    "    def __init__(self, vertices):\n",
    "        self.V = vertices\n",
    "        self.graph = [[0 for column in range(vertices)] for row in range(vertices)]\n",
    "\n",
    "    def printMST(self, parent):\n",
    "        print(\"Edge \\tWeight\")\n",
    "        weight = 0\n",
    "        for i in range(1, self.V):\n",
    "            weight += self.graph[i][parent[i]]\n",
    "            print(f'({parent[i]}, {i}, {self.graph[i][parent[i]]})')\n",
    "        print(f'Total weight: {weight}')\n",
    "\n",
    "    def minKey(self, key, mstSet):\n",
    "        min = sys.maxsize\n",
    "        for v in range(self.V):\n",
    "            if key[v] < min and mstSet[v] == False:\n",
    "                min = key[v]\n",
    "                min_index = v\n",
    "        return min_index\n",
    "\n",
    "    def primMST(self):\n",
    "        key = [sys.maxsize] * self.V\n",
    "        parent = [None] * self.V \n",
    "        key[0] = 0\n",
    "        mstSet = [False] * self.V\n",
    "        parent[0] = -1\n",
    "\n",
    "        for cout in range(self.V):\n",
    "            u = self.minKey(key, mstSet)\n",
    "            mstSet[u] = True\n",
    "            for v in range(self.V):\n",
    "                if self.graph[u][v] > 0 and mstSet[v] == False and key[v] > self.graph[u][v]:\n",
    "                    key[v] = self.graph[u][v]\n",
    "                    parent[v] = u\n",
    "\n",
    "            print(f'Iteration: {cout + 1}')\n",
    "            print(['inf' if i == sys.maxsize else i for i in key])\n",
    "            print(['nil' if i == None else i for i in parent])\n",
    "        self.printMST(parent)\n",
    "\n",
    "if __name__ == '__main__':\n",
    "    g = Graph(len(adjMat.columns))\n",
    "    g.graph = adjMat.values.tolist()\n",
    "    g.primMST()"
   ]
  }
 ],
 "metadata": {
  "kernelspec": {
   "display_name": "Python 3.10.4 ('2001')",
   "language": "python",
   "name": "python3"
  },
  "language_info": {
   "codemirror_mode": {
    "name": "ipython",
    "version": 3
   },
   "file_extension": ".py",
   "mimetype": "text/x-python",
   "name": "python",
   "nbconvert_exporter": "python",
   "pygments_lexer": "ipython3",
   "version": "3.10.4"
  },
  "orig_nbformat": 4,
  "vscode": {
   "interpreter": {
    "hash": "55eb91d003843ee0eabb6af411dc999514f7578b560f97084ebc6a83d429fc16"
   }
  }
 },
 "nbformat": 4,
 "nbformat_minor": 2
}
