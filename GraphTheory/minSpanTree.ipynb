{
 "cells": [
  {
   "cell_type": "markdown",
   "metadata": {},
   "source": [
    "### Minimum Spanning Tree\n"
   ]
  },
  {
   "cell_type": "markdown",
   "metadata": {},
   "source": [
    "### Library\n"
   ]
  },
  {
   "cell_type": "code",
   "execution_count": 1,
   "metadata": {},
   "outputs": [],
   "source": [
    "from itertools import pairwise\n",
    "import sys\n",
    "import networkx as nx"
   ]
  },
  {
   "cell_type": "markdown",
   "metadata": {},
   "source": [
    "### Input panel\n"
   ]
  },
  {
   "cell_type": "code",
   "execution_count": 2,
   "metadata": {},
   "outputs": [],
   "source": [
    "input = '40162342546'"
   ]
  },
  {
   "cell_type": "markdown",
   "metadata": {},
   "source": [
    "### De-code\n"
   ]
  },
  {
   "cell_type": "code",
   "execution_count": 3,
   "metadata": {},
   "outputs": [],
   "source": [
    "edges = [i + (abs(i[0] - i[1]),) for i in [tuple(map(int, i)) for i in list(pairwise(input))]]\n",
    "edges.sort()"
   ]
  },
  {
   "cell_type": "code",
   "execution_count": 4,
   "metadata": {},
   "outputs": [],
   "source": [
    "graph = nx.Graph()\n",
    "\n",
    "for i in edges:\n",
    "    graph.add_edge(i[0], i[1], weight=i[2])"
   ]
  },
  {
   "cell_type": "markdown",
   "metadata": {},
   "source": [
    "### Prim's Algorithm"
   ]
  },
  {
   "cell_type": "code",
   "execution_count": 5,
   "metadata": {},
   "outputs": [],
   "source": [
    "T = nx.minimum_spanning_tree(graph, algorithm=\"prim\")\n",
    "primList = sorted(T.edges(data=True), key=lambda x: x[-1][\"weight\"])\n",
    "nodeSet = {0}\n",
    "resList = []\n",
    "\n",
    "while primList:\n",
    "    for index, edge in enumerate(primList):\n",
    "        if any(item in nodeSet for item in [edge[0], edge[1]]):\n",
    "            nodeSet.add(edge[0])\n",
    "            nodeSet.add(edge[1])\n",
    "            resList.append(primList.pop(index))\n",
    "            break"
   ]
  },
  {
   "cell_type": "markdown",
   "metadata": {},
   "source": [
    "### MST edge by prim's order"
   ]
  },
  {
   "cell_type": "code",
   "execution_count": 6,
   "metadata": {},
   "outputs": [
    {
     "data": {
      "text/plain": [
       "[(0, 1, {'weight': 1}),\n",
       " (0, 4, {'weight': 4}),\n",
       " (3, 4, {'weight': 1}),\n",
       " (2, 3, {'weight': 1}),\n",
       " (5, 4, {'weight': 1}),\n",
       " (6, 4, {'weight': 2})]"
      ]
     },
     "execution_count": 6,
     "metadata": {},
     "output_type": "execute_result"
    }
   ],
   "source": [
    "resList"
   ]
  },
  {
   "cell_type": "markdown",
   "metadata": {},
   "source": [
    "### Plot Graph https://csacademy.com/app/graph_editor/"
   ]
  },
  {
   "cell_type": "code",
   "execution_count": 13,
   "metadata": {},
   "outputs": [
    {
     "name": "stdout",
     "output_type": "stream",
     "text": [
      "0 1 1 \n",
      "0 4 4 \n",
      "3 4 1 \n",
      "2 3 1 \n",
      "5 4 1 \n",
      "6 4 2 \n"
     ]
    }
   ],
   "source": [
    "for edge in resList:\n",
    "    print(f'{edge[0]} {edge[1]} {edge[-1][\"weight\"]} ')"
   ]
  },
  {
   "cell_type": "markdown",
   "metadata": {},
   "source": [
    "### MST total weight"
   ]
  },
  {
   "cell_type": "code",
   "execution_count": 8,
   "metadata": {},
   "outputs": [
    {
     "name": "stdout",
     "output_type": "stream",
     "text": [
      "Total weight: 10\n"
     ]
    }
   ],
   "source": [
    "weight = sum([edge[-1][\"weight\"] for edge in resList])\n",
    "print(f'Total weight: {weight}')"
   ]
  }
 ],
 "metadata": {
  "kernelspec": {
   "display_name": "Python 3.10.4 ('2001')",
   "language": "python",
   "name": "python3"
  },
  "language_info": {
   "codemirror_mode": {
    "name": "ipython",
    "version": 3
   },
   "file_extension": ".py",
   "mimetype": "text/x-python",
   "name": "python",
   "nbconvert_exporter": "python",
   "pygments_lexer": "ipython3",
   "version": "3.10.4"
  },
  "orig_nbformat": 4,
  "vscode": {
   "interpreter": {
    "hash": "55eb91d003843ee0eabb6af411dc999514f7578b560f97084ebc6a83d429fc16"
   }
  }
 },
 "nbformat": 4,
 "nbformat_minor": 2
}
