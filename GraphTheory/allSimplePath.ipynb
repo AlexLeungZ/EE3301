{
 "cells": [
  {
   "cell_type": "markdown",
   "metadata": {},
   "source": [
    "### Library\n"
   ]
  },
  {
   "cell_type": "code",
   "execution_count": 1,
   "metadata": {},
   "outputs": [],
   "source": [
    "import networkx as nx\n",
    "import pandas as pd\n",
    "from itertools import combinations\n"
   ]
  },
  {
   "cell_type": "markdown",
   "metadata": {},
   "source": [
    "### Edge List (Directed)\n"
   ]
  },
  {
   "cell_type": "code",
   "execution_count": 2,
   "metadata": {},
   "outputs": [
    {
     "name": "stdout",
     "output_type": "stream",
     "text": [
      "   source  target  weight\n",
      "0       1       2       1\n",
      "1       1       3       1\n",
      "2       1       4       1\n",
      "3       2       3       1\n",
      "4       2       4       1\n",
      "5       3       4       1\n"
     ]
    }
   ],
   "source": [
    "df = pd.read_csv('allSimplePath.csv', header=None)\n",
    "df.columns = [\"source\", \"target\", \"weight\"]\n",
    "\n",
    "G = nx.from_pandas_edgelist(df, edge_attr=True, create_using=nx.Graph())\n",
    "print(df)\n"
   ]
  },
  {
   "cell_type": "markdown",
   "metadata": {},
   "source": [
    "### All simple path from all source to target\n"
   ]
  },
  {
   "cell_type": "code",
   "execution_count": 6,
   "metadata": {},
   "outputs": [
    {
     "name": "stdout",
     "output_type": "stream",
     "text": [
      "source-target = (1, 2)\n",
      "[1, 2]\n",
      "[1, 3, 2]\n",
      "[1, 3, 4, 2]\n",
      "[1, 4, 2]\n",
      "[1, 4, 3, 2]\n",
      "source-target = (1, 3)\n",
      "[1, 2, 3]\n",
      "[1, 2, 4, 3]\n",
      "[1, 3]\n",
      "[1, 4, 2, 3]\n",
      "[1, 4, 3]\n",
      "source-target = (1, 4)\n",
      "[1, 2, 3, 4]\n",
      "[1, 2, 4]\n",
      "[1, 3, 2, 4]\n",
      "[1, 3, 4]\n",
      "[1, 4]\n",
      "source-target = (2, 3)\n",
      "[2, 1, 3]\n",
      "[2, 1, 4, 3]\n",
      "[2, 3]\n",
      "[2, 4, 1, 3]\n",
      "[2, 4, 3]\n",
      "source-target = (2, 4)\n",
      "[2, 1, 3, 4]\n",
      "[2, 1, 4]\n",
      "[2, 3, 1, 4]\n",
      "[2, 3, 4]\n",
      "[2, 4]\n",
      "source-target = (3, 4)\n",
      "[3, 1, 2, 4]\n",
      "[3, 1, 4]\n",
      "[3, 2, 1, 4]\n",
      "[3, 2, 4]\n",
      "[3, 4]\n"
     ]
    }
   ],
   "source": [
    "for st in list(combinations(set(G), 2)):\n",
    "    print(f\"source-target = {st}\")\n",
    "    for path in nx.all_simple_paths(G, st[0], st[1]):\n",
    "        print(path)"
   ]
  },
  {
   "cell_type": "markdown",
   "metadata": {},
   "source": [
    "### All simple path from source to target\n"
   ]
  },
  {
   "cell_type": "code",
   "execution_count": 4,
   "metadata": {},
   "outputs": [],
   "source": [
    "# source = 2\n",
    "# target = 3\n"
   ]
  },
  {
   "cell_type": "code",
   "execution_count": 5,
   "metadata": {},
   "outputs": [],
   "source": [
    "# for path in nx.all_simple_paths(G, source, target):\n",
    "#     print(path)\n"
   ]
  }
 ],
 "metadata": {
  "kernelspec": {
   "display_name": "Python 3.10.4 ('2001')",
   "language": "python",
   "name": "python3"
  },
  "language_info": {
   "codemirror_mode": {
    "name": "ipython",
    "version": 3
   },
   "file_extension": ".py",
   "mimetype": "text/x-python",
   "name": "python",
   "nbconvert_exporter": "python",
   "pygments_lexer": "ipython3",
   "version": "3.10.6"
  },
  "orig_nbformat": 4,
  "vscode": {
   "interpreter": {
    "hash": "98ca2e07560d35728ccdebd1543520761a78888f7ef0f79ced70cde6f7b9b0d4"
   }
  }
 },
 "nbformat": 4,
 "nbformat_minor": 2
}
